{
  "nbformat": 4,
  "nbformat_minor": 0,
  "metadata": {
    "colab": {
      "name": "Moringa_Data_Science_Core_W6_Independent_Project_2020_05_Faithelizabeth_Mburuga_Python Notebook",
      "provenance": [],
      "collapsed_sections": [
        "JL24wQjzbFTa",
        "OhIkvGxabLa5",
        "KF6hhJSzblQY",
        "lsfhVtWvjnPP"
      ],
      "toc_visible": true
    },
    "kernelspec": {
      "name": "python3",
      "display_name": "Python 3"
    }
  },
  "cells": [
    {
      "cell_type": "markdown",
      "metadata": {
        "id": "gflPMczMZ0Ku",
        "colab_type": "text"
      },
      "source": [
        "# Mchezopesa Prediction Results"
      ]
    },
    {
      "cell_type": "markdown",
      "metadata": {
        "id": "nZjE31XeZ4dx",
        "colab_type": "text"
      },
      "source": [
        "# 1. Defining the question"
      ]
    },
    {
      "cell_type": "markdown",
      "metadata": {
        "id": "cOMURB_8aCcS",
        "colab_type": "text"
      },
      "source": [
        "## a) Specifying the question"
      ]
    },
    {
      "cell_type": "markdown",
      "metadata": {
        "id": "yKj077s6fDYc",
        "colab_type": "text"
      },
      "source": [
        "As a football analyst for Mchezopesa Ltd, I will be predicting the results of a game between team 1 and 2 based on:\n",
        "\n",
        "i) who's home and who's away\n",
        "\n",
        "ii) whether or not the game is friendly (include rank in your training)."
      ]
    },
    {
      "cell_type": "markdown",
      "metadata": {
        "id": "L2aBa79taHH9",
        "colab_type": "text"
      },
      "source": [
        "## b) Defining the metric of success"
      ]
    },
    {
      "cell_type": "markdown",
      "metadata": {
        "id": "o_6n6PuXgUrP",
        "colab_type": "text"
      },
      "source": [
        "The prediction will be considered successful if the accuracy of the models is 80% and above.\n",
        "\n",
        "Anything below this will reduce the efficiency of the prediction model."
      ]
    },
    {
      "cell_type": "markdown",
      "metadata": {
        "id": "r1tgQ7GLaOXK",
        "colab_type": "text"
      },
      "source": [
        "## c) Understanding the context"
      ]
    },
    {
      "cell_type": "markdown",
      "metadata": {
        "id": "Xfu0K3rFgjkZ",
        "colab_type": "text"
      },
      "source": [
        "The project is based on data gotten from FIFA which is an international governing body of association football. This data spans over many years so it will be useful in training the model to make accurate predictions of the research question.\n",
        "\n"
      ]
    },
    {
      "cell_type": "markdown",
      "metadata": {
        "id": "VeY_xsRFaSf5",
        "colab_type": "text"
      },
      "source": [
        "## d) Recording the Experimental Design"
      ]
    },
    {
      "cell_type": "markdown",
      "metadata": {
        "id": "i0xWQsCvjFI2",
        "colab_type": "text"
      },
      "source": [
        "For this project, two approaches will be used:\n",
        "\n",
        "1. Polynomial Regression Approach\n",
        "\n",
        "2. Logistic Regression Approach"
      ]
    },
    {
      "cell_type": "markdown",
      "metadata": {
        "id": "CLklJx8XawdT",
        "colab_type": "text"
      },
      "source": [
        "## e) Data relevance\n"
      ]
    },
    {
      "cell_type": "markdown",
      "metadata": {
        "id": "0nvwmYETjXyV",
        "colab_type": "text"
      },
      "source": [
        "The data provided is sufficient for this project. I however would have wished for data on ranking of the different teams to have been provided."
      ]
    },
    {
      "cell_type": "markdown",
      "metadata": {
        "id": "JL24wQjzbFTa",
        "colab_type": "text"
      },
      "source": [
        "# 2. Reading the Data"
      ]
    },
    {
      "cell_type": "code",
      "metadata": {
        "id": "cSPxjySnjmil",
        "colab_type": "code",
        "colab": {}
      },
      "source": [
        "# Import all the necessary libraries\n",
        "\n",
        "import pandas as pd\n",
        "import numpy as np\n",
        "from sklearn.model_selection import train_test_split\n",
        "from sklearn.linear_model import LinearRegression\n",
        "from sklearn import metrics\n",
        "from sklearn.preprocessing import PolynomialFeatures\n",
        "import matplotlib.pyplot as plt"
      ],
      "execution_count": 0,
      "outputs": []
    },
    {
      "cell_type": "code",
      "metadata": {
        "id": "GhvW6KBhj5H1",
        "colab_type": "code",
        "outputId": "4ec1e9c6-3e05-4836-cb06-2bc49279c2e9",
        "colab": {
          "base_uri": "https://localhost:8080/",
          "height": 309
        }
      },
      "source": [
        "# Load the datasets\n",
        "\n",
        "fifa = pd.read_csv('/content/fifa_ranking.csv')\n",
        "fifa.head()"
      ],
      "execution_count": 4,
      "outputs": [
        {
          "output_type": "execute_result",
          "data": {
            "text/html": [
              "<div>\n",
              "<style scoped>\n",
              "    .dataframe tbody tr th:only-of-type {\n",
              "        vertical-align: middle;\n",
              "    }\n",
              "\n",
              "    .dataframe tbody tr th {\n",
              "        vertical-align: top;\n",
              "    }\n",
              "\n",
              "    .dataframe thead th {\n",
              "        text-align: right;\n",
              "    }\n",
              "</style>\n",
              "<table border=\"1\" class=\"dataframe\">\n",
              "  <thead>\n",
              "    <tr style=\"text-align: right;\">\n",
              "      <th></th>\n",
              "      <th>rank</th>\n",
              "      <th>country_full</th>\n",
              "      <th>country_abrv</th>\n",
              "      <th>total_points</th>\n",
              "      <th>previous_points</th>\n",
              "      <th>rank_change</th>\n",
              "      <th>cur_year_avg</th>\n",
              "      <th>cur_year_avg_weighted</th>\n",
              "      <th>last_year_avg</th>\n",
              "      <th>last_year_avg_weighted</th>\n",
              "      <th>two_year_ago_avg</th>\n",
              "      <th>two_year_ago_weighted</th>\n",
              "      <th>three_year_ago_avg</th>\n",
              "      <th>three_year_ago_weighted</th>\n",
              "      <th>confederation</th>\n",
              "      <th>rank_date</th>\n",
              "    </tr>\n",
              "  </thead>\n",
              "  <tbody>\n",
              "    <tr>\n",
              "      <th>0</th>\n",
              "      <td>1</td>\n",
              "      <td>Germany</td>\n",
              "      <td>GER</td>\n",
              "      <td>0.0</td>\n",
              "      <td>57</td>\n",
              "      <td>0</td>\n",
              "      <td>0.0</td>\n",
              "      <td>0.0</td>\n",
              "      <td>0.0</td>\n",
              "      <td>0.0</td>\n",
              "      <td>0.0</td>\n",
              "      <td>0.0</td>\n",
              "      <td>0.0</td>\n",
              "      <td>0.0</td>\n",
              "      <td>UEFA</td>\n",
              "      <td>1993-08-08</td>\n",
              "    </tr>\n",
              "    <tr>\n",
              "      <th>1</th>\n",
              "      <td>2</td>\n",
              "      <td>Italy</td>\n",
              "      <td>ITA</td>\n",
              "      <td>0.0</td>\n",
              "      <td>57</td>\n",
              "      <td>0</td>\n",
              "      <td>0.0</td>\n",
              "      <td>0.0</td>\n",
              "      <td>0.0</td>\n",
              "      <td>0.0</td>\n",
              "      <td>0.0</td>\n",
              "      <td>0.0</td>\n",
              "      <td>0.0</td>\n",
              "      <td>0.0</td>\n",
              "      <td>UEFA</td>\n",
              "      <td>1993-08-08</td>\n",
              "    </tr>\n",
              "    <tr>\n",
              "      <th>2</th>\n",
              "      <td>3</td>\n",
              "      <td>Switzerland</td>\n",
              "      <td>SUI</td>\n",
              "      <td>0.0</td>\n",
              "      <td>50</td>\n",
              "      <td>9</td>\n",
              "      <td>0.0</td>\n",
              "      <td>0.0</td>\n",
              "      <td>0.0</td>\n",
              "      <td>0.0</td>\n",
              "      <td>0.0</td>\n",
              "      <td>0.0</td>\n",
              "      <td>0.0</td>\n",
              "      <td>0.0</td>\n",
              "      <td>UEFA</td>\n",
              "      <td>1993-08-08</td>\n",
              "    </tr>\n",
              "    <tr>\n",
              "      <th>3</th>\n",
              "      <td>4</td>\n",
              "      <td>Sweden</td>\n",
              "      <td>SWE</td>\n",
              "      <td>0.0</td>\n",
              "      <td>55</td>\n",
              "      <td>0</td>\n",
              "      <td>0.0</td>\n",
              "      <td>0.0</td>\n",
              "      <td>0.0</td>\n",
              "      <td>0.0</td>\n",
              "      <td>0.0</td>\n",
              "      <td>0.0</td>\n",
              "      <td>0.0</td>\n",
              "      <td>0.0</td>\n",
              "      <td>UEFA</td>\n",
              "      <td>1993-08-08</td>\n",
              "    </tr>\n",
              "    <tr>\n",
              "      <th>4</th>\n",
              "      <td>5</td>\n",
              "      <td>Argentina</td>\n",
              "      <td>ARG</td>\n",
              "      <td>0.0</td>\n",
              "      <td>51</td>\n",
              "      <td>5</td>\n",
              "      <td>0.0</td>\n",
              "      <td>0.0</td>\n",
              "      <td>0.0</td>\n",
              "      <td>0.0</td>\n",
              "      <td>0.0</td>\n",
              "      <td>0.0</td>\n",
              "      <td>0.0</td>\n",
              "      <td>0.0</td>\n",
              "      <td>CONMEBOL</td>\n",
              "      <td>1993-08-08</td>\n",
              "    </tr>\n",
              "  </tbody>\n",
              "</table>\n",
              "</div>"
            ],
            "text/plain": [
              "   rank country_full  ... confederation   rank_date\n",
              "0     1      Germany  ...          UEFA  1993-08-08\n",
              "1     2        Italy  ...          UEFA  1993-08-08\n",
              "2     3  Switzerland  ...          UEFA  1993-08-08\n",
              "3     4       Sweden  ...          UEFA  1993-08-08\n",
              "4     5    Argentina  ...      CONMEBOL  1993-08-08\n",
              "\n",
              "[5 rows x 16 columns]"
            ]
          },
          "metadata": {
            "tags": []
          },
          "execution_count": 4
        }
      ]
    },
    {
      "cell_type": "code",
      "metadata": {
        "id": "4Otl8Pmukpqe",
        "colab_type": "code",
        "outputId": "fc52abe7-c29a-4045-da38-740149d5456d",
        "colab": {
          "base_uri": "https://localhost:8080/",
          "height": 204
        }
      },
      "source": [
        "results = pd.read_csv('/content/results.csv')\n",
        "results.head()"
      ],
      "execution_count": 5,
      "outputs": [
        {
          "output_type": "execute_result",
          "data": {
            "text/html": [
              "<div>\n",
              "<style scoped>\n",
              "    .dataframe tbody tr th:only-of-type {\n",
              "        vertical-align: middle;\n",
              "    }\n",
              "\n",
              "    .dataframe tbody tr th {\n",
              "        vertical-align: top;\n",
              "    }\n",
              "\n",
              "    .dataframe thead th {\n",
              "        text-align: right;\n",
              "    }\n",
              "</style>\n",
              "<table border=\"1\" class=\"dataframe\">\n",
              "  <thead>\n",
              "    <tr style=\"text-align: right;\">\n",
              "      <th></th>\n",
              "      <th>date</th>\n",
              "      <th>home_team</th>\n",
              "      <th>away_team</th>\n",
              "      <th>home_score</th>\n",
              "      <th>away_score</th>\n",
              "      <th>tournament</th>\n",
              "      <th>city</th>\n",
              "      <th>country</th>\n",
              "      <th>neutral</th>\n",
              "    </tr>\n",
              "  </thead>\n",
              "  <tbody>\n",
              "    <tr>\n",
              "      <th>0</th>\n",
              "      <td>1872-11-30</td>\n",
              "      <td>Scotland</td>\n",
              "      <td>England</td>\n",
              "      <td>0</td>\n",
              "      <td>0</td>\n",
              "      <td>Friendly</td>\n",
              "      <td>Glasgow</td>\n",
              "      <td>Scotland</td>\n",
              "      <td>False</td>\n",
              "    </tr>\n",
              "    <tr>\n",
              "      <th>1</th>\n",
              "      <td>1873-03-08</td>\n",
              "      <td>England</td>\n",
              "      <td>Scotland</td>\n",
              "      <td>4</td>\n",
              "      <td>2</td>\n",
              "      <td>Friendly</td>\n",
              "      <td>London</td>\n",
              "      <td>England</td>\n",
              "      <td>False</td>\n",
              "    </tr>\n",
              "    <tr>\n",
              "      <th>2</th>\n",
              "      <td>1874-03-07</td>\n",
              "      <td>Scotland</td>\n",
              "      <td>England</td>\n",
              "      <td>2</td>\n",
              "      <td>1</td>\n",
              "      <td>Friendly</td>\n",
              "      <td>Glasgow</td>\n",
              "      <td>Scotland</td>\n",
              "      <td>False</td>\n",
              "    </tr>\n",
              "    <tr>\n",
              "      <th>3</th>\n",
              "      <td>1875-03-06</td>\n",
              "      <td>England</td>\n",
              "      <td>Scotland</td>\n",
              "      <td>2</td>\n",
              "      <td>2</td>\n",
              "      <td>Friendly</td>\n",
              "      <td>London</td>\n",
              "      <td>England</td>\n",
              "      <td>False</td>\n",
              "    </tr>\n",
              "    <tr>\n",
              "      <th>4</th>\n",
              "      <td>1876-03-04</td>\n",
              "      <td>Scotland</td>\n",
              "      <td>England</td>\n",
              "      <td>3</td>\n",
              "      <td>0</td>\n",
              "      <td>Friendly</td>\n",
              "      <td>Glasgow</td>\n",
              "      <td>Scotland</td>\n",
              "      <td>False</td>\n",
              "    </tr>\n",
              "  </tbody>\n",
              "</table>\n",
              "</div>"
            ],
            "text/plain": [
              "         date home_team away_team  ...     city   country neutral\n",
              "0  1872-11-30  Scotland   England  ...  Glasgow  Scotland   False\n",
              "1  1873-03-08   England  Scotland  ...   London   England   False\n",
              "2  1874-03-07  Scotland   England  ...  Glasgow  Scotland   False\n",
              "3  1875-03-06   England  Scotland  ...   London   England   False\n",
              "4  1876-03-04  Scotland   England  ...  Glasgow  Scotland   False\n",
              "\n",
              "[5 rows x 9 columns]"
            ]
          },
          "metadata": {
            "tags": []
          },
          "execution_count": 5
        }
      ]
    },
    {
      "cell_type": "markdown",
      "metadata": {
        "id": "OhIkvGxabLa5",
        "colab_type": "text"
      },
      "source": [
        "# 3. Checking the Data"
      ]
    },
    {
      "cell_type": "code",
      "metadata": {
        "id": "CYZydhjJlIvB",
        "colab_type": "code",
        "outputId": "a945ba67-8089-46e6-aaf8-ab67adba4e7f",
        "colab": {
          "base_uri": "https://localhost:8080/",
          "height": 34
        }
      },
      "source": [
        "# Determine the no of records in the dataset\n",
        "results.shape"
      ],
      "execution_count": 6,
      "outputs": [
        {
          "output_type": "execute_result",
          "data": {
            "text/plain": [
              "(40839, 9)"
            ]
          },
          "metadata": {
            "tags": []
          },
          "execution_count": 6
        }
      ]
    },
    {
      "cell_type": "code",
      "metadata": {
        "id": "aQEOYythlhrw",
        "colab_type": "code",
        "outputId": "218169cd-e942-490b-83d0-f111430ebb0a",
        "colab": {
          "base_uri": "https://localhost:8080/",
          "height": 34
        }
      },
      "source": [
        "fifa.shape"
      ],
      "execution_count": 7,
      "outputs": [
        {
          "output_type": "execute_result",
          "data": {
            "text/plain": [
              "(57793, 16)"
            ]
          },
          "metadata": {
            "tags": []
          },
          "execution_count": 7
        }
      ]
    },
    {
      "cell_type": "code",
      "metadata": {
        "id": "JljKSdGYln4X",
        "colab_type": "code",
        "outputId": "7b1a29d2-9fe6-44dd-87a2-2dbb95946e99",
        "colab": {
          "base_uri": "https://localhost:8080/",
          "height": 306
        }
      },
      "source": [
        "# Check datatypes of the columns\n",
        "\n",
        "fifa.dtypes"
      ],
      "execution_count": 8,
      "outputs": [
        {
          "output_type": "execute_result",
          "data": {
            "text/plain": [
              "rank                         int64\n",
              "country_full                object\n",
              "country_abrv                object\n",
              "total_points               float64\n",
              "previous_points              int64\n",
              "rank_change                  int64\n",
              "cur_year_avg               float64\n",
              "cur_year_avg_weighted      float64\n",
              "last_year_avg              float64\n",
              "last_year_avg_weighted     float64\n",
              "two_year_ago_avg           float64\n",
              "two_year_ago_weighted      float64\n",
              "three_year_ago_avg         float64\n",
              "three_year_ago_weighted    float64\n",
              "confederation               object\n",
              "rank_date                   object\n",
              "dtype: object"
            ]
          },
          "metadata": {
            "tags": []
          },
          "execution_count": 8
        }
      ]
    },
    {
      "cell_type": "code",
      "metadata": {
        "id": "uHlTaoVdl4Gg",
        "colab_type": "code",
        "outputId": "3a581537-e985-43bd-9681-f65570c7ba1a",
        "colab": {
          "base_uri": "https://localhost:8080/",
          "height": 187
        }
      },
      "source": [
        "results.dtypes"
      ],
      "execution_count": 9,
      "outputs": [
        {
          "output_type": "execute_result",
          "data": {
            "text/plain": [
              "date          object\n",
              "home_team     object\n",
              "away_team     object\n",
              "home_score     int64\n",
              "away_score     int64\n",
              "tournament    object\n",
              "city          object\n",
              "country       object\n",
              "neutral         bool\n",
              "dtype: object"
            ]
          },
          "metadata": {
            "tags": []
          },
          "execution_count": 9
        }
      ]
    },
    {
      "cell_type": "code",
      "metadata": {
        "id": "7NXKN8LGmDnb",
        "colab_type": "code",
        "outputId": "813870b9-5baa-4435-d49b-af1505b01a43",
        "colab": {
          "base_uri": "https://localhost:8080/",
          "height": 221
        }
      },
      "source": [
        "print(results.tournament.value_counts())"
      ],
      "execution_count": 10,
      "outputs": [
        {
          "output_type": "stream",
          "text": [
            "Friendly                                16911\n",
            "FIFA World Cup qualification             7100\n",
            "UEFA Euro qualification                  2432\n",
            "African Cup of Nations qualification     1616\n",
            "FIFA World Cup                            900\n",
            "                                        ...  \n",
            "World Unity Cup                             4\n",
            "Dragon Cup                                  4\n",
            "AFF Championship qualification              2\n",
            "Copa América qualification                  2\n",
            "Atlantic Heritage Cup                       2\n",
            "Name: tournament, Length: 109, dtype: int64\n"
          ],
          "name": "stdout"
        }
      ]
    },
    {
      "cell_type": "code",
      "metadata": {
        "id": "P-jpWwZ4ove9",
        "colab_type": "code",
        "outputId": "8d0b4dd9-9a6d-4f57-d77d-388233eeb0eb",
        "colab": {
          "base_uri": "https://localhost:8080/",
          "height": 136
        }
      },
      "source": [
        "fifa.confederation.value_counts()"
      ],
      "execution_count": 11,
      "outputs": [
        {
          "output_type": "execute_result",
          "data": {
            "text/plain": [
              "UEFA        14933\n",
              "CAF         14876\n",
              "AFC         12617\n",
              "CONCACAF     9664\n",
              "CONMEBOL     2860\n",
              "OFC          2843\n",
              "Name: confederation, dtype: int64"
            ]
          },
          "metadata": {
            "tags": []
          },
          "execution_count": 11
        }
      ]
    },
    {
      "cell_type": "code",
      "metadata": {
        "id": "4a5aZlGap96f",
        "colab_type": "code",
        "outputId": "15b19fcf-0f91-4e7b-de6f-8d4da2e744a7",
        "colab": {
          "base_uri": "https://localhost:8080/",
          "height": 221
        }
      },
      "source": [
        "fifa.rank_date.value_counts()"
      ],
      "execution_count": 12,
      "outputs": [
        {
          "output_type": "execute_result",
          "data": {
            "text/plain": [
              "2017-06-01    211\n",
              "2016-11-24    211\n",
              "2018-03-15    211\n",
              "2017-03-09    211\n",
              "2017-12-21    211\n",
              "             ... \n",
              "1993-12-23    168\n",
              "1993-10-22    167\n",
              "1993-08-08    167\n",
              "1993-09-23    167\n",
              "1994-02-15    167\n",
              "Name: rank_date, Length: 286, dtype: int64"
            ]
          },
          "metadata": {
            "tags": []
          },
          "execution_count": 12
        }
      ]
    },
    {
      "cell_type": "code",
      "metadata": {
        "id": "zR_gWwEOqDl8",
        "colab_type": "code",
        "outputId": "f0164e92-8e25-4f24-bf5f-7f5dca1a5846",
        "colab": {
          "base_uri": "https://localhost:8080/",
          "height": 221
        }
      },
      "source": [
        "results.date.value_counts()"
      ],
      "execution_count": 13,
      "outputs": [
        {
          "output_type": "execute_result",
          "data": {
            "text/plain": [
              "2012-02-29    66\n",
              "2016-03-29    63\n",
              "2008-03-26    60\n",
              "2014-03-05    59\n",
              "2012-11-14    56\n",
              "              ..\n",
              "1985-08-06     1\n",
              "1975-10-08     1\n",
              "1952-11-12     1\n",
              "2010-01-19     1\n",
              "1961-05-27     1\n",
              "Name: date, Length: 15115, dtype: int64"
            ]
          },
          "metadata": {
            "tags": []
          },
          "execution_count": 13
        }
      ]
    },
    {
      "cell_type": "code",
      "metadata": {
        "id": "fKmiT6etNUsX",
        "colab_type": "code",
        "outputId": "832030bf-a86d-4305-85be-f5c293484ffb",
        "colab": {
          "base_uri": "https://localhost:8080/",
          "height": 221
        }
      },
      "source": [
        "fifa.country_full.value_counts()"
      ],
      "execution_count": 14,
      "outputs": [
        {
          "output_type": "execute_result",
          "data": {
            "text/plain": [
              "Sudan                    325\n",
              "Hong Kong                286\n",
              "Benin                    286\n",
              "Burkina Faso             286\n",
              "Switzerland              286\n",
              "                        ... \n",
              "Zaire                     66\n",
              "Serbia and Montenegro     43\n",
              "Kosovo                    24\n",
              "Gibraltar                 22\n",
              "RCS                        5\n",
              "Name: country_full, Length: 216, dtype: int64"
            ]
          },
          "metadata": {
            "tags": []
          },
          "execution_count": 14
        }
      ]
    },
    {
      "cell_type": "code",
      "metadata": {
        "id": "1MH3rUpLOfXj",
        "colab_type": "code",
        "outputId": "6d0b2c1c-b2c6-412e-e82b-bd505d29b894",
        "colab": {
          "base_uri": "https://localhost:8080/",
          "height": 221
        }
      },
      "source": [
        "results.country.value_counts()"
      ],
      "execution_count": 15,
      "outputs": [
        {
          "output_type": "execute_result",
          "data": {
            "text/plain": [
              "United States          1144\n",
              "France                  801\n",
              "England                 687\n",
              "Malaysia                644\n",
              "Sweden                  637\n",
              "                       ... \n",
              "Bohemia and Moravia       1\n",
              "Belgian Congo             1\n",
              "Portuguese Guinea         1\n",
              "Mali Federation           1\n",
              "Lautoka                   1\n",
              "Name: country, Length: 266, dtype: int64"
            ]
          },
          "metadata": {
            "tags": []
          },
          "execution_count": 15
        }
      ]
    },
    {
      "cell_type": "code",
      "metadata": {
        "id": "3BP-0yoiQC0W",
        "colab_type": "code",
        "outputId": "60afecc0-31d2-4639-f499-6bc3621dcfd1",
        "colab": {
          "base_uri": "https://localhost:8080/",
          "height": 309
        }
      },
      "source": [
        "# Rename the column country_full to country so that an inner join can be done on the 2 datasets\n",
        "\n",
        "df = fifa.rename(columns = {'country_full':'country'})\n",
        "df.head()"
      ],
      "execution_count": 16,
      "outputs": [
        {
          "output_type": "execute_result",
          "data": {
            "text/html": [
              "<div>\n",
              "<style scoped>\n",
              "    .dataframe tbody tr th:only-of-type {\n",
              "        vertical-align: middle;\n",
              "    }\n",
              "\n",
              "    .dataframe tbody tr th {\n",
              "        vertical-align: top;\n",
              "    }\n",
              "\n",
              "    .dataframe thead th {\n",
              "        text-align: right;\n",
              "    }\n",
              "</style>\n",
              "<table border=\"1\" class=\"dataframe\">\n",
              "  <thead>\n",
              "    <tr style=\"text-align: right;\">\n",
              "      <th></th>\n",
              "      <th>rank</th>\n",
              "      <th>country</th>\n",
              "      <th>country_abrv</th>\n",
              "      <th>total_points</th>\n",
              "      <th>previous_points</th>\n",
              "      <th>rank_change</th>\n",
              "      <th>cur_year_avg</th>\n",
              "      <th>cur_year_avg_weighted</th>\n",
              "      <th>last_year_avg</th>\n",
              "      <th>last_year_avg_weighted</th>\n",
              "      <th>two_year_ago_avg</th>\n",
              "      <th>two_year_ago_weighted</th>\n",
              "      <th>three_year_ago_avg</th>\n",
              "      <th>three_year_ago_weighted</th>\n",
              "      <th>confederation</th>\n",
              "      <th>rank_date</th>\n",
              "    </tr>\n",
              "  </thead>\n",
              "  <tbody>\n",
              "    <tr>\n",
              "      <th>0</th>\n",
              "      <td>1</td>\n",
              "      <td>Germany</td>\n",
              "      <td>GER</td>\n",
              "      <td>0.0</td>\n",
              "      <td>57</td>\n",
              "      <td>0</td>\n",
              "      <td>0.0</td>\n",
              "      <td>0.0</td>\n",
              "      <td>0.0</td>\n",
              "      <td>0.0</td>\n",
              "      <td>0.0</td>\n",
              "      <td>0.0</td>\n",
              "      <td>0.0</td>\n",
              "      <td>0.0</td>\n",
              "      <td>UEFA</td>\n",
              "      <td>1993-08-08</td>\n",
              "    </tr>\n",
              "    <tr>\n",
              "      <th>1</th>\n",
              "      <td>2</td>\n",
              "      <td>Italy</td>\n",
              "      <td>ITA</td>\n",
              "      <td>0.0</td>\n",
              "      <td>57</td>\n",
              "      <td>0</td>\n",
              "      <td>0.0</td>\n",
              "      <td>0.0</td>\n",
              "      <td>0.0</td>\n",
              "      <td>0.0</td>\n",
              "      <td>0.0</td>\n",
              "      <td>0.0</td>\n",
              "      <td>0.0</td>\n",
              "      <td>0.0</td>\n",
              "      <td>UEFA</td>\n",
              "      <td>1993-08-08</td>\n",
              "    </tr>\n",
              "    <tr>\n",
              "      <th>2</th>\n",
              "      <td>3</td>\n",
              "      <td>Switzerland</td>\n",
              "      <td>SUI</td>\n",
              "      <td>0.0</td>\n",
              "      <td>50</td>\n",
              "      <td>9</td>\n",
              "      <td>0.0</td>\n",
              "      <td>0.0</td>\n",
              "      <td>0.0</td>\n",
              "      <td>0.0</td>\n",
              "      <td>0.0</td>\n",
              "      <td>0.0</td>\n",
              "      <td>0.0</td>\n",
              "      <td>0.0</td>\n",
              "      <td>UEFA</td>\n",
              "      <td>1993-08-08</td>\n",
              "    </tr>\n",
              "    <tr>\n",
              "      <th>3</th>\n",
              "      <td>4</td>\n",
              "      <td>Sweden</td>\n",
              "      <td>SWE</td>\n",
              "      <td>0.0</td>\n",
              "      <td>55</td>\n",
              "      <td>0</td>\n",
              "      <td>0.0</td>\n",
              "      <td>0.0</td>\n",
              "      <td>0.0</td>\n",
              "      <td>0.0</td>\n",
              "      <td>0.0</td>\n",
              "      <td>0.0</td>\n",
              "      <td>0.0</td>\n",
              "      <td>0.0</td>\n",
              "      <td>UEFA</td>\n",
              "      <td>1993-08-08</td>\n",
              "    </tr>\n",
              "    <tr>\n",
              "      <th>4</th>\n",
              "      <td>5</td>\n",
              "      <td>Argentina</td>\n",
              "      <td>ARG</td>\n",
              "      <td>0.0</td>\n",
              "      <td>51</td>\n",
              "      <td>5</td>\n",
              "      <td>0.0</td>\n",
              "      <td>0.0</td>\n",
              "      <td>0.0</td>\n",
              "      <td>0.0</td>\n",
              "      <td>0.0</td>\n",
              "      <td>0.0</td>\n",
              "      <td>0.0</td>\n",
              "      <td>0.0</td>\n",
              "      <td>CONMEBOL</td>\n",
              "      <td>1993-08-08</td>\n",
              "    </tr>\n",
              "  </tbody>\n",
              "</table>\n",
              "</div>"
            ],
            "text/plain": [
              "   rank      country  ... confederation   rank_date\n",
              "0     1      Germany  ...          UEFA  1993-08-08\n",
              "1     2        Italy  ...          UEFA  1993-08-08\n",
              "2     3  Switzerland  ...          UEFA  1993-08-08\n",
              "3     4       Sweden  ...          UEFA  1993-08-08\n",
              "4     5    Argentina  ...      CONMEBOL  1993-08-08\n",
              "\n",
              "[5 rows x 16 columns]"
            ]
          },
          "metadata": {
            "tags": []
          },
          "execution_count": 16
        }
      ]
    },
    {
      "cell_type": "code",
      "metadata": {
        "id": "Dq3JbQmu7rth",
        "colab_type": "code",
        "outputId": "7ab13c57-c94d-4f9a-e55b-b96a7e8de71f",
        "colab": {
          "base_uri": "https://localhost:8080/",
          "height": 309
        }
      },
      "source": [
        "# Merge the 2 datasets \n",
        "\n",
        "game = df.merge(results, how='inner', on='country')\n",
        "game.head()"
      ],
      "execution_count": 17,
      "outputs": [
        {
          "output_type": "execute_result",
          "data": {
            "text/html": [
              "<div>\n",
              "<style scoped>\n",
              "    .dataframe tbody tr th:only-of-type {\n",
              "        vertical-align: middle;\n",
              "    }\n",
              "\n",
              "    .dataframe tbody tr th {\n",
              "        vertical-align: top;\n",
              "    }\n",
              "\n",
              "    .dataframe thead th {\n",
              "        text-align: right;\n",
              "    }\n",
              "</style>\n",
              "<table border=\"1\" class=\"dataframe\">\n",
              "  <thead>\n",
              "    <tr style=\"text-align: right;\">\n",
              "      <th></th>\n",
              "      <th>rank</th>\n",
              "      <th>country</th>\n",
              "      <th>country_abrv</th>\n",
              "      <th>total_points</th>\n",
              "      <th>previous_points</th>\n",
              "      <th>rank_change</th>\n",
              "      <th>cur_year_avg</th>\n",
              "      <th>cur_year_avg_weighted</th>\n",
              "      <th>last_year_avg</th>\n",
              "      <th>last_year_avg_weighted</th>\n",
              "      <th>two_year_ago_avg</th>\n",
              "      <th>two_year_ago_weighted</th>\n",
              "      <th>three_year_ago_avg</th>\n",
              "      <th>three_year_ago_weighted</th>\n",
              "      <th>confederation</th>\n",
              "      <th>rank_date</th>\n",
              "      <th>date</th>\n",
              "      <th>home_team</th>\n",
              "      <th>away_team</th>\n",
              "      <th>home_score</th>\n",
              "      <th>away_score</th>\n",
              "      <th>tournament</th>\n",
              "      <th>city</th>\n",
              "      <th>neutral</th>\n",
              "    </tr>\n",
              "  </thead>\n",
              "  <tbody>\n",
              "    <tr>\n",
              "      <th>0</th>\n",
              "      <td>1</td>\n",
              "      <td>Germany</td>\n",
              "      <td>GER</td>\n",
              "      <td>0.0</td>\n",
              "      <td>57</td>\n",
              "      <td>0</td>\n",
              "      <td>0.0</td>\n",
              "      <td>0.0</td>\n",
              "      <td>0.0</td>\n",
              "      <td>0.0</td>\n",
              "      <td>0.0</td>\n",
              "      <td>0.0</td>\n",
              "      <td>0.0</td>\n",
              "      <td>0.0</td>\n",
              "      <td>UEFA</td>\n",
              "      <td>1993-08-08</td>\n",
              "      <td>1909-04-04</td>\n",
              "      <td>Germany</td>\n",
              "      <td>Switzerland</td>\n",
              "      <td>1</td>\n",
              "      <td>0</td>\n",
              "      <td>Friendly</td>\n",
              "      <td>Karlsruhe</td>\n",
              "      <td>False</td>\n",
              "    </tr>\n",
              "    <tr>\n",
              "      <th>1</th>\n",
              "      <td>1</td>\n",
              "      <td>Germany</td>\n",
              "      <td>GER</td>\n",
              "      <td>0.0</td>\n",
              "      <td>57</td>\n",
              "      <td>0</td>\n",
              "      <td>0.0</td>\n",
              "      <td>0.0</td>\n",
              "      <td>0.0</td>\n",
              "      <td>0.0</td>\n",
              "      <td>0.0</td>\n",
              "      <td>0.0</td>\n",
              "      <td>0.0</td>\n",
              "      <td>0.0</td>\n",
              "      <td>UEFA</td>\n",
              "      <td>1993-08-08</td>\n",
              "      <td>1910-05-16</td>\n",
              "      <td>Germany</td>\n",
              "      <td>Belgium</td>\n",
              "      <td>0</td>\n",
              "      <td>3</td>\n",
              "      <td>Friendly</td>\n",
              "      <td>Duisburg</td>\n",
              "      <td>False</td>\n",
              "    </tr>\n",
              "    <tr>\n",
              "      <th>2</th>\n",
              "      <td>1</td>\n",
              "      <td>Germany</td>\n",
              "      <td>GER</td>\n",
              "      <td>0.0</td>\n",
              "      <td>57</td>\n",
              "      <td>0</td>\n",
              "      <td>0.0</td>\n",
              "      <td>0.0</td>\n",
              "      <td>0.0</td>\n",
              "      <td>0.0</td>\n",
              "      <td>0.0</td>\n",
              "      <td>0.0</td>\n",
              "      <td>0.0</td>\n",
              "      <td>0.0</td>\n",
              "      <td>UEFA</td>\n",
              "      <td>1993-08-08</td>\n",
              "      <td>1910-10-16</td>\n",
              "      <td>Germany</td>\n",
              "      <td>Netherlands</td>\n",
              "      <td>1</td>\n",
              "      <td>2</td>\n",
              "      <td>Friendly</td>\n",
              "      <td>Kleve</td>\n",
              "      <td>False</td>\n",
              "    </tr>\n",
              "    <tr>\n",
              "      <th>3</th>\n",
              "      <td>1</td>\n",
              "      <td>Germany</td>\n",
              "      <td>GER</td>\n",
              "      <td>0.0</td>\n",
              "      <td>57</td>\n",
              "      <td>0</td>\n",
              "      <td>0.0</td>\n",
              "      <td>0.0</td>\n",
              "      <td>0.0</td>\n",
              "      <td>0.0</td>\n",
              "      <td>0.0</td>\n",
              "      <td>0.0</td>\n",
              "      <td>0.0</td>\n",
              "      <td>0.0</td>\n",
              "      <td>UEFA</td>\n",
              "      <td>1993-08-08</td>\n",
              "      <td>1911-03-26</td>\n",
              "      <td>Germany</td>\n",
              "      <td>Switzerland</td>\n",
              "      <td>6</td>\n",
              "      <td>2</td>\n",
              "      <td>Friendly</td>\n",
              "      <td>Stuttgart</td>\n",
              "      <td>False</td>\n",
              "    </tr>\n",
              "    <tr>\n",
              "      <th>4</th>\n",
              "      <td>1</td>\n",
              "      <td>Germany</td>\n",
              "      <td>GER</td>\n",
              "      <td>0.0</td>\n",
              "      <td>57</td>\n",
              "      <td>0</td>\n",
              "      <td>0.0</td>\n",
              "      <td>0.0</td>\n",
              "      <td>0.0</td>\n",
              "      <td>0.0</td>\n",
              "      <td>0.0</td>\n",
              "      <td>0.0</td>\n",
              "      <td>0.0</td>\n",
              "      <td>0.0</td>\n",
              "      <td>UEFA</td>\n",
              "      <td>1993-08-08</td>\n",
              "      <td>1911-10-09</td>\n",
              "      <td>Germany</td>\n",
              "      <td>Austria</td>\n",
              "      <td>1</td>\n",
              "      <td>2</td>\n",
              "      <td>Friendly</td>\n",
              "      <td>Dresden</td>\n",
              "      <td>False</td>\n",
              "    </tr>\n",
              "  </tbody>\n",
              "</table>\n",
              "</div>"
            ],
            "text/plain": [
              "   rank  country country_abrv  ...  tournament       city  neutral\n",
              "0     1  Germany          GER  ...    Friendly  Karlsruhe    False\n",
              "1     1  Germany          GER  ...    Friendly   Duisburg    False\n",
              "2     1  Germany          GER  ...    Friendly      Kleve    False\n",
              "3     1  Germany          GER  ...    Friendly  Stuttgart    False\n",
              "4     1  Germany          GER  ...    Friendly    Dresden    False\n",
              "\n",
              "[5 rows x 24 columns]"
            ]
          },
          "metadata": {
            "tags": []
          },
          "execution_count": 17
        }
      ]
    },
    {
      "cell_type": "markdown",
      "metadata": {
        "id": "taV4GTdzbgMe",
        "colab_type": "text"
      },
      "source": [
        "# 4. External Data Source Validation"
      ]
    },
    {
      "cell_type": "markdown",
      "metadata": {
        "id": "KF6hhJSzblQY",
        "colab_type": "text"
      },
      "source": [
        "# 5. Tidying the Dataset"
      ]
    },
    {
      "cell_type": "code",
      "metadata": {
        "id": "uB0xytjF2blP",
        "colab_type": "code",
        "colab": {}
      },
      "source": [
        "# Drop unnecessary columns\n",
        "# I'll drop the abbreviations column because it's not not necessary\n",
        "\n",
        "game.drop(['country_abrv'], axis = 1, inplace = True) "
      ],
      "execution_count": 0,
      "outputs": []
    },
    {
      "cell_type": "code",
      "metadata": {
        "id": "2SmQ3bx1gvBf",
        "colab_type": "code",
        "colab": {}
      },
      "source": [
        "game.drop(['rank_date'], axis = 1, inplace = True) "
      ],
      "execution_count": 0,
      "outputs": []
    },
    {
      "cell_type": "code",
      "metadata": {
        "id": "6VvNl2ucFhoE",
        "colab_type": "code",
        "outputId": "fb3b4374-fa34-4b08-bbf0-523fa815dfcc",
        "colab": {
          "base_uri": "https://localhost:8080/",
          "height": 408
        }
      },
      "source": [
        "# Check for missing values\n",
        "\n",
        "game.isnull().sum()\n",
        "\n",
        "# No missing values were found"
      ],
      "execution_count": 20,
      "outputs": [
        {
          "output_type": "execute_result",
          "data": {
            "text/plain": [
              "rank                       0\n",
              "country                    0\n",
              "total_points               0\n",
              "previous_points            0\n",
              "rank_change                0\n",
              "cur_year_avg               0\n",
              "cur_year_avg_weighted      0\n",
              "last_year_avg              0\n",
              "last_year_avg_weighted     0\n",
              "two_year_ago_avg           0\n",
              "two_year_ago_weighted      0\n",
              "three_year_ago_avg         0\n",
              "three_year_ago_weighted    0\n",
              "confederation              0\n",
              "date                       0\n",
              "home_team                  0\n",
              "away_team                  0\n",
              "home_score                 0\n",
              "away_score                 0\n",
              "tournament                 0\n",
              "city                       0\n",
              "neutral                    0\n",
              "dtype: int64"
            ]
          },
          "metadata": {
            "tags": []
          },
          "execution_count": 20
        }
      ]
    },
    {
      "cell_type": "code",
      "metadata": {
        "id": "liwpdCUVF_rl",
        "colab_type": "code",
        "outputId": "72297dc5-b681-4f29-a9e7-c192547bb688",
        "colab": {
          "base_uri": "https://localhost:8080/",
          "height": 34
        }
      },
      "source": [
        "# Check for duplicated values\n",
        "\n",
        "game.duplicated().any()\n"
      ],
      "execution_count": 21,
      "outputs": [
        {
          "output_type": "execute_result",
          "data": {
            "text/plain": [
              "True"
            ]
          },
          "metadata": {
            "tags": []
          },
          "execution_count": 21
        }
      ]
    },
    {
      "cell_type": "code",
      "metadata": {
        "id": "-fsecqewSYPV",
        "colab_type": "code",
        "colab": {}
      },
      "source": [
        "# Drop the duplicated columns\n",
        "\n",
        "game.drop_duplicates(keep = False, inplace = True)"
      ],
      "execution_count": 0,
      "outputs": []
    },
    {
      "cell_type": "code",
      "metadata": {
        "id": "35PvLEbPS4e6",
        "colab_type": "code",
        "outputId": "4697d4c7-2ecc-48eb-f42b-1c5b31173317",
        "colab": {
          "base_uri": "https://localhost:8080/",
          "height": 34
        }
      },
      "source": [
        "# Check whether changes have been made\n",
        "\n",
        "game.duplicated().any()"
      ],
      "execution_count": 23,
      "outputs": [
        {
          "output_type": "execute_result",
          "data": {
            "text/plain": [
              "False"
            ]
          },
          "metadata": {
            "tags": []
          },
          "execution_count": 23
        }
      ]
    },
    {
      "cell_type": "code",
      "metadata": {
        "id": "OeYdjyrUIKPo",
        "colab_type": "code",
        "colab": {}
      },
      "source": [
        "# Change the dates columns to datetime type\n",
        "\n",
        "game.date = pd.to_datetime(game.date)"
      ],
      "execution_count": 0,
      "outputs": []
    },
    {
      "cell_type": "code",
      "metadata": {
        "id": "hAWxQ6kgIfCM",
        "colab_type": "code",
        "outputId": "4d3a2c16-7ce7-4ce2-93ab-2fd6d298cc0f",
        "colab": {
          "base_uri": "https://localhost:8080/",
          "height": 408
        }
      },
      "source": [
        "# Check whether the change have been made\n",
        "\n",
        "game.dtypes"
      ],
      "execution_count": 25,
      "outputs": [
        {
          "output_type": "execute_result",
          "data": {
            "text/plain": [
              "rank                                int64\n",
              "country                            object\n",
              "total_points                      float64\n",
              "previous_points                     int64\n",
              "rank_change                         int64\n",
              "cur_year_avg                      float64\n",
              "cur_year_avg_weighted             float64\n",
              "last_year_avg                     float64\n",
              "last_year_avg_weighted            float64\n",
              "two_year_ago_avg                  float64\n",
              "two_year_ago_weighted             float64\n",
              "three_year_ago_avg                float64\n",
              "three_year_ago_weighted           float64\n",
              "confederation                      object\n",
              "date                       datetime64[ns]\n",
              "home_team                          object\n",
              "away_team                          object\n",
              "home_score                          int64\n",
              "away_score                          int64\n",
              "tournament                         object\n",
              "city                               object\n",
              "neutral                              bool\n",
              "dtype: object"
            ]
          },
          "metadata": {
            "tags": []
          },
          "execution_count": 25
        }
      ]
    },
    {
      "cell_type": "code",
      "metadata": {
        "id": "PiTRMxT7Ivpc",
        "colab_type": "code",
        "outputId": "60e6d49e-985e-4c7f-db2c-898ae3fa953a",
        "colab": {
          "base_uri": "https://localhost:8080/",
          "height": 136
        }
      },
      "source": [
        "# Remove whitespaces in the columns\n",
        "\n",
        "game.columns.str.replace(\" \",\" \")"
      ],
      "execution_count": 26,
      "outputs": [
        {
          "output_type": "execute_result",
          "data": {
            "text/plain": [
              "Index(['rank', 'country', 'total_points', 'previous_points', 'rank_change',\n",
              "       'cur_year_avg', 'cur_year_avg_weighted', 'last_year_avg',\n",
              "       'last_year_avg_weighted', 'two_year_ago_avg', 'two_year_ago_weighted',\n",
              "       'three_year_ago_avg', 'three_year_ago_weighted', 'confederation',\n",
              "       'date', 'home_team', 'away_team', 'home_score', 'away_score',\n",
              "       'tournament', 'city', 'neutral'],\n",
              "      dtype='object')"
            ]
          },
          "metadata": {
            "tags": []
          },
          "execution_count": 26
        }
      ]
    },
    {
      "cell_type": "code",
      "metadata": {
        "id": "KT9t9rZ5hOu2",
        "colab_type": "code",
        "outputId": "8d49dd84-faa0-4565-9d96-6c0831dc3ee3",
        "colab": {
          "base_uri": "https://localhost:8080/",
          "height": 289
        }
      },
      "source": [
        "# Check for outliers\n",
        "# Find IQR Score first\n",
        "\n",
        "# Drop the date column when removing the outliers as it clahses with the float datatypes\n",
        "\n",
        "df = game.drop(['date'], 1)\n",
        "\n",
        "Q1 = df.quantile(0.25)\n",
        "Q3 = df.quantile(0.75)\n",
        "IQR = Q3 - Q1\n",
        "print(IQR)"
      ],
      "execution_count": 27,
      "outputs": [
        {
          "output_type": "stream",
          "text": [
            "rank                        78.00\n",
            "total_points               219.30\n",
            "previous_points            496.00\n",
            "rank_change                  3.00\n",
            "cur_year_avg                92.92\n",
            "cur_year_avg_weighted       92.92\n",
            "last_year_avg               91.85\n",
            "last_year_avg_weighted      45.92\n",
            "two_year_ago_avg            87.55\n",
            "two_year_ago_weighted       26.26\n",
            "three_year_ago_avg          87.61\n",
            "three_year_ago_weighted     17.52\n",
            "home_score                   1.00\n",
            "away_score                   2.00\n",
            "neutral                      0.00\n",
            "dtype: float64\n"
          ],
          "name": "stdout"
        }
      ]
    },
    {
      "cell_type": "code",
      "metadata": {
        "id": "aUWA1z38T_vr",
        "colab_type": "code",
        "outputId": "f13072cf-fa74-4217-f85e-c68de2eb2f82",
        "colab": {
          "base_uri": "https://localhost:8080/",
          "height": 439
        }
      },
      "source": [
        "# Multiply the (IQR) by 1.5\n",
        "# Add 1.5 x (IQR) to the third quartile. Any number greater than this is a suspected outlier.\n",
        "# Subtract 1.5 x (IQR) from the first quartile. Any number less than this is a suspected outlier.\n",
        "\n",
        "(df < (Q1 - 1.5 * IQR)) |(df > (Q3 + 1.5 * IQR))\n",
        "\n",
        "\n",
        "# True indicates the prescence of an outlier"
      ],
      "execution_count": 28,
      "outputs": [
        {
          "output_type": "execute_result",
          "data": {
            "text/html": [
              "<div>\n",
              "<style scoped>\n",
              "    .dataframe tbody tr th:only-of-type {\n",
              "        vertical-align: middle;\n",
              "    }\n",
              "\n",
              "    .dataframe tbody tr th {\n",
              "        vertical-align: top;\n",
              "    }\n",
              "\n",
              "    .dataframe thead th {\n",
              "        text-align: right;\n",
              "    }\n",
              "</style>\n",
              "<table border=\"1\" class=\"dataframe\">\n",
              "  <thead>\n",
              "    <tr style=\"text-align: right;\">\n",
              "      <th></th>\n",
              "      <th>away_score</th>\n",
              "      <th>away_team</th>\n",
              "      <th>city</th>\n",
              "      <th>confederation</th>\n",
              "      <th>country</th>\n",
              "      <th>cur_year_avg</th>\n",
              "      <th>cur_year_avg_weighted</th>\n",
              "      <th>home_score</th>\n",
              "      <th>home_team</th>\n",
              "      <th>last_year_avg</th>\n",
              "      <th>last_year_avg_weighted</th>\n",
              "      <th>neutral</th>\n",
              "      <th>previous_points</th>\n",
              "      <th>rank</th>\n",
              "      <th>rank_change</th>\n",
              "      <th>three_year_ago_avg</th>\n",
              "      <th>three_year_ago_weighted</th>\n",
              "      <th>total_points</th>\n",
              "      <th>tournament</th>\n",
              "      <th>two_year_ago_avg</th>\n",
              "      <th>two_year_ago_weighted</th>\n",
              "    </tr>\n",
              "  </thead>\n",
              "  <tbody>\n",
              "    <tr>\n",
              "      <th>0</th>\n",
              "      <td>False</td>\n",
              "      <td>False</td>\n",
              "      <td>False</td>\n",
              "      <td>False</td>\n",
              "      <td>False</td>\n",
              "      <td>False</td>\n",
              "      <td>False</td>\n",
              "      <td>False</td>\n",
              "      <td>False</td>\n",
              "      <td>False</td>\n",
              "      <td>False</td>\n",
              "      <td>False</td>\n",
              "      <td>False</td>\n",
              "      <td>False</td>\n",
              "      <td>False</td>\n",
              "      <td>False</td>\n",
              "      <td>False</td>\n",
              "      <td>False</td>\n",
              "      <td>False</td>\n",
              "      <td>False</td>\n",
              "      <td>False</td>\n",
              "    </tr>\n",
              "    <tr>\n",
              "      <th>1</th>\n",
              "      <td>False</td>\n",
              "      <td>False</td>\n",
              "      <td>False</td>\n",
              "      <td>False</td>\n",
              "      <td>False</td>\n",
              "      <td>False</td>\n",
              "      <td>False</td>\n",
              "      <td>False</td>\n",
              "      <td>False</td>\n",
              "      <td>False</td>\n",
              "      <td>False</td>\n",
              "      <td>False</td>\n",
              "      <td>False</td>\n",
              "      <td>False</td>\n",
              "      <td>False</td>\n",
              "      <td>False</td>\n",
              "      <td>False</td>\n",
              "      <td>False</td>\n",
              "      <td>False</td>\n",
              "      <td>False</td>\n",
              "      <td>False</td>\n",
              "    </tr>\n",
              "    <tr>\n",
              "      <th>2</th>\n",
              "      <td>False</td>\n",
              "      <td>False</td>\n",
              "      <td>False</td>\n",
              "      <td>False</td>\n",
              "      <td>False</td>\n",
              "      <td>False</td>\n",
              "      <td>False</td>\n",
              "      <td>False</td>\n",
              "      <td>False</td>\n",
              "      <td>False</td>\n",
              "      <td>False</td>\n",
              "      <td>False</td>\n",
              "      <td>False</td>\n",
              "      <td>False</td>\n",
              "      <td>False</td>\n",
              "      <td>False</td>\n",
              "      <td>False</td>\n",
              "      <td>False</td>\n",
              "      <td>False</td>\n",
              "      <td>False</td>\n",
              "      <td>False</td>\n",
              "    </tr>\n",
              "    <tr>\n",
              "      <th>3</th>\n",
              "      <td>False</td>\n",
              "      <td>False</td>\n",
              "      <td>False</td>\n",
              "      <td>False</td>\n",
              "      <td>False</td>\n",
              "      <td>False</td>\n",
              "      <td>False</td>\n",
              "      <td>True</td>\n",
              "      <td>False</td>\n",
              "      <td>False</td>\n",
              "      <td>False</td>\n",
              "      <td>False</td>\n",
              "      <td>False</td>\n",
              "      <td>False</td>\n",
              "      <td>False</td>\n",
              "      <td>False</td>\n",
              "      <td>False</td>\n",
              "      <td>False</td>\n",
              "      <td>False</td>\n",
              "      <td>False</td>\n",
              "      <td>False</td>\n",
              "    </tr>\n",
              "    <tr>\n",
              "      <th>4</th>\n",
              "      <td>False</td>\n",
              "      <td>False</td>\n",
              "      <td>False</td>\n",
              "      <td>False</td>\n",
              "      <td>False</td>\n",
              "      <td>False</td>\n",
              "      <td>False</td>\n",
              "      <td>False</td>\n",
              "      <td>False</td>\n",
              "      <td>False</td>\n",
              "      <td>False</td>\n",
              "      <td>False</td>\n",
              "      <td>False</td>\n",
              "      <td>False</td>\n",
              "      <td>False</td>\n",
              "      <td>False</td>\n",
              "      <td>False</td>\n",
              "      <td>False</td>\n",
              "      <td>False</td>\n",
              "      <td>False</td>\n",
              "      <td>False</td>\n",
              "    </tr>\n",
              "    <tr>\n",
              "      <th>...</th>\n",
              "      <td>...</td>\n",
              "      <td>...</td>\n",
              "      <td>...</td>\n",
              "      <td>...</td>\n",
              "      <td>...</td>\n",
              "      <td>...</td>\n",
              "      <td>...</td>\n",
              "      <td>...</td>\n",
              "      <td>...</td>\n",
              "      <td>...</td>\n",
              "      <td>...</td>\n",
              "      <td>...</td>\n",
              "      <td>...</td>\n",
              "      <td>...</td>\n",
              "      <td>...</td>\n",
              "      <td>...</td>\n",
              "      <td>...</td>\n",
              "      <td>...</td>\n",
              "      <td>...</td>\n",
              "      <td>...</td>\n",
              "      <td>...</td>\n",
              "    </tr>\n",
              "    <tr>\n",
              "      <th>10246505</th>\n",
              "      <td>False</td>\n",
              "      <td>False</td>\n",
              "      <td>False</td>\n",
              "      <td>False</td>\n",
              "      <td>False</td>\n",
              "      <td>False</td>\n",
              "      <td>False</td>\n",
              "      <td>False</td>\n",
              "      <td>False</td>\n",
              "      <td>False</td>\n",
              "      <td>False</td>\n",
              "      <td>False</td>\n",
              "      <td>False</td>\n",
              "      <td>False</td>\n",
              "      <td>False</td>\n",
              "      <td>False</td>\n",
              "      <td>False</td>\n",
              "      <td>False</td>\n",
              "      <td>False</td>\n",
              "      <td>False</td>\n",
              "      <td>False</td>\n",
              "    </tr>\n",
              "    <tr>\n",
              "      <th>10246506</th>\n",
              "      <td>False</td>\n",
              "      <td>False</td>\n",
              "      <td>False</td>\n",
              "      <td>False</td>\n",
              "      <td>False</td>\n",
              "      <td>False</td>\n",
              "      <td>False</td>\n",
              "      <td>False</td>\n",
              "      <td>False</td>\n",
              "      <td>False</td>\n",
              "      <td>False</td>\n",
              "      <td>False</td>\n",
              "      <td>False</td>\n",
              "      <td>False</td>\n",
              "      <td>False</td>\n",
              "      <td>False</td>\n",
              "      <td>False</td>\n",
              "      <td>False</td>\n",
              "      <td>False</td>\n",
              "      <td>False</td>\n",
              "      <td>False</td>\n",
              "    </tr>\n",
              "    <tr>\n",
              "      <th>10246507</th>\n",
              "      <td>True</td>\n",
              "      <td>False</td>\n",
              "      <td>False</td>\n",
              "      <td>False</td>\n",
              "      <td>False</td>\n",
              "      <td>False</td>\n",
              "      <td>False</td>\n",
              "      <td>False</td>\n",
              "      <td>False</td>\n",
              "      <td>False</td>\n",
              "      <td>False</td>\n",
              "      <td>False</td>\n",
              "      <td>False</td>\n",
              "      <td>False</td>\n",
              "      <td>False</td>\n",
              "      <td>False</td>\n",
              "      <td>False</td>\n",
              "      <td>False</td>\n",
              "      <td>False</td>\n",
              "      <td>False</td>\n",
              "      <td>False</td>\n",
              "    </tr>\n",
              "    <tr>\n",
              "      <th>10246508</th>\n",
              "      <td>False</td>\n",
              "      <td>False</td>\n",
              "      <td>False</td>\n",
              "      <td>False</td>\n",
              "      <td>False</td>\n",
              "      <td>False</td>\n",
              "      <td>False</td>\n",
              "      <td>False</td>\n",
              "      <td>False</td>\n",
              "      <td>False</td>\n",
              "      <td>False</td>\n",
              "      <td>False</td>\n",
              "      <td>False</td>\n",
              "      <td>False</td>\n",
              "      <td>False</td>\n",
              "      <td>False</td>\n",
              "      <td>False</td>\n",
              "      <td>False</td>\n",
              "      <td>False</td>\n",
              "      <td>False</td>\n",
              "      <td>False</td>\n",
              "    </tr>\n",
              "    <tr>\n",
              "      <th>10246509</th>\n",
              "      <td>False</td>\n",
              "      <td>False</td>\n",
              "      <td>False</td>\n",
              "      <td>False</td>\n",
              "      <td>False</td>\n",
              "      <td>False</td>\n",
              "      <td>False</td>\n",
              "      <td>False</td>\n",
              "      <td>False</td>\n",
              "      <td>False</td>\n",
              "      <td>False</td>\n",
              "      <td>False</td>\n",
              "      <td>False</td>\n",
              "      <td>False</td>\n",
              "      <td>False</td>\n",
              "      <td>False</td>\n",
              "      <td>False</td>\n",
              "      <td>False</td>\n",
              "      <td>False</td>\n",
              "      <td>False</td>\n",
              "      <td>False</td>\n",
              "    </tr>\n",
              "  </tbody>\n",
              "</table>\n",
              "<p>9498178 rows × 21 columns</p>\n",
              "</div>"
            ],
            "text/plain": [
              "          away_score  away_team  ...  two_year_ago_avg  two_year_ago_weighted\n",
              "0              False      False  ...             False                  False\n",
              "1              False      False  ...             False                  False\n",
              "2              False      False  ...             False                  False\n",
              "3              False      False  ...             False                  False\n",
              "4              False      False  ...             False                  False\n",
              "...              ...        ...  ...               ...                    ...\n",
              "10246505       False      False  ...             False                  False\n",
              "10246506       False      False  ...             False                  False\n",
              "10246507        True      False  ...             False                  False\n",
              "10246508       False      False  ...             False                  False\n",
              "10246509       False      False  ...             False                  False\n",
              "\n",
              "[9498178 rows x 21 columns]"
            ]
          },
          "metadata": {
            "tags": []
          },
          "execution_count": 28
        }
      ]
    },
    {
      "cell_type": "code",
      "metadata": {
        "id": "G9XzYgkHVRtC",
        "colab_type": "code",
        "outputId": "dbd29e15-282a-4021-ef4c-4cde0c41abbe",
        "colab": {
          "base_uri": "https://localhost:8080/",
          "height": 34
        }
      },
      "source": [
        "# Remove the outliers\n",
        "\n",
        "df_outliers = df[~((df < (Q1 - 1.5 * IQR)) |(df > (Q3 + 1.5 * IQR))).any(axis=1)]\n",
        "df_outliers.shape"
      ],
      "execution_count": 29,
      "outputs": [
        {
          "output_type": "execute_result",
          "data": {
            "text/plain": [
              "(4128104, 21)"
            ]
          },
          "metadata": {
            "tags": []
          },
          "execution_count": 29
        }
      ]
    },
    {
      "cell_type": "code",
      "metadata": {
        "id": "NifbwB43jU37",
        "colab_type": "code",
        "colab": {}
      },
      "source": [
        "# Export the cleaned dataset\n",
        "\n",
        "df_outliers.to_csv('game_clean.csv')"
      ],
      "execution_count": 0,
      "outputs": []
    },
    {
      "cell_type": "code",
      "metadata": {
        "id": "JSstxwWijFnN",
        "colab_type": "code",
        "outputId": "7f13e30f-7c2e-4dbc-9cf8-13a194533371",
        "colab": {
          "base_uri": "https://localhost:8080/",
          "height": 326
        }
      },
      "source": [
        "game_clean = pd.read_csv('game_clean.csv')\n",
        "game_clean.tail()"
      ],
      "execution_count": 166,
      "outputs": [
        {
          "output_type": "execute_result",
          "data": {
            "text/html": [
              "<div>\n",
              "<style scoped>\n",
              "    .dataframe tbody tr th:only-of-type {\n",
              "        vertical-align: middle;\n",
              "    }\n",
              "\n",
              "    .dataframe tbody tr th {\n",
              "        vertical-align: top;\n",
              "    }\n",
              "\n",
              "    .dataframe thead th {\n",
              "        text-align: right;\n",
              "    }\n",
              "</style>\n",
              "<table border=\"1\" class=\"dataframe\">\n",
              "  <thead>\n",
              "    <tr style=\"text-align: right;\">\n",
              "      <th></th>\n",
              "      <th>Unnamed: 0</th>\n",
              "      <th>rank</th>\n",
              "      <th>country</th>\n",
              "      <th>total_points</th>\n",
              "      <th>previous_points</th>\n",
              "      <th>rank_change</th>\n",
              "      <th>cur_year_avg</th>\n",
              "      <th>cur_year_avg_weighted</th>\n",
              "      <th>last_year_avg</th>\n",
              "      <th>last_year_avg_weighted</th>\n",
              "      <th>two_year_ago_avg</th>\n",
              "      <th>two_year_ago_weighted</th>\n",
              "      <th>three_year_ago_avg</th>\n",
              "      <th>three_year_ago_weighted</th>\n",
              "      <th>confederation</th>\n",
              "      <th>home_team</th>\n",
              "      <th>away_team</th>\n",
              "      <th>home_score</th>\n",
              "      <th>away_score</th>\n",
              "      <th>tournament</th>\n",
              "      <th>city</th>\n",
              "      <th>neutral</th>\n",
              "    </tr>\n",
              "  </thead>\n",
              "  <tbody>\n",
              "    <tr>\n",
              "      <th>4128099</th>\n",
              "      <td>10246504</td>\n",
              "      <td>195</td>\n",
              "      <td>Gibraltar</td>\n",
              "      <td>34.16</td>\n",
              "      <td>34</td>\n",
              "      <td>1</td>\n",
              "      <td>34.16</td>\n",
              "      <td>34.16</td>\n",
              "      <td>0.0</td>\n",
              "      <td>0.0</td>\n",
              "      <td>0.0</td>\n",
              "      <td>0.0</td>\n",
              "      <td>0.0</td>\n",
              "      <td>0.0</td>\n",
              "      <td>UEFA</td>\n",
              "      <td>Gibraltar</td>\n",
              "      <td>Latvia</td>\n",
              "      <td>1</td>\n",
              "      <td>0</td>\n",
              "      <td>Friendly</td>\n",
              "      <td>Gibraltar</td>\n",
              "      <td>False</td>\n",
              "    </tr>\n",
              "    <tr>\n",
              "      <th>4128100</th>\n",
              "      <td>10246505</td>\n",
              "      <td>195</td>\n",
              "      <td>Gibraltar</td>\n",
              "      <td>34.16</td>\n",
              "      <td>34</td>\n",
              "      <td>1</td>\n",
              "      <td>34.16</td>\n",
              "      <td>34.16</td>\n",
              "      <td>0.0</td>\n",
              "      <td>0.0</td>\n",
              "      <td>0.0</td>\n",
              "      <td>0.0</td>\n",
              "      <td>0.0</td>\n",
              "      <td>0.0</td>\n",
              "      <td>UEFA</td>\n",
              "      <td>Gibraltar</td>\n",
              "      <td>North Macedonia</td>\n",
              "      <td>0</td>\n",
              "      <td>2</td>\n",
              "      <td>UEFA Nations League</td>\n",
              "      <td>Gibraltar</td>\n",
              "      <td>False</td>\n",
              "    </tr>\n",
              "    <tr>\n",
              "      <th>4128101</th>\n",
              "      <td>10246506</td>\n",
              "      <td>195</td>\n",
              "      <td>Gibraltar</td>\n",
              "      <td>34.16</td>\n",
              "      <td>34</td>\n",
              "      <td>1</td>\n",
              "      <td>34.16</td>\n",
              "      <td>34.16</td>\n",
              "      <td>0.0</td>\n",
              "      <td>0.0</td>\n",
              "      <td>0.0</td>\n",
              "      <td>0.0</td>\n",
              "      <td>0.0</td>\n",
              "      <td>0.0</td>\n",
              "      <td>UEFA</td>\n",
              "      <td>Gibraltar</td>\n",
              "      <td>Liechtenstein</td>\n",
              "      <td>2</td>\n",
              "      <td>1</td>\n",
              "      <td>UEFA Nations League</td>\n",
              "      <td>Gibraltar</td>\n",
              "      <td>False</td>\n",
              "    </tr>\n",
              "    <tr>\n",
              "      <th>4128102</th>\n",
              "      <td>10246508</td>\n",
              "      <td>195</td>\n",
              "      <td>Gibraltar</td>\n",
              "      <td>34.16</td>\n",
              "      <td>34</td>\n",
              "      <td>1</td>\n",
              "      <td>34.16</td>\n",
              "      <td>34.16</td>\n",
              "      <td>0.0</td>\n",
              "      <td>0.0</td>\n",
              "      <td>0.0</td>\n",
              "      <td>0.0</td>\n",
              "      <td>0.0</td>\n",
              "      <td>0.0</td>\n",
              "      <td>UEFA</td>\n",
              "      <td>Gibraltar</td>\n",
              "      <td>Republic of Ireland</td>\n",
              "      <td>0</td>\n",
              "      <td>1</td>\n",
              "      <td>UEFA Euro qualification</td>\n",
              "      <td>Gibraltar</td>\n",
              "      <td>False</td>\n",
              "    </tr>\n",
              "    <tr>\n",
              "      <th>4128103</th>\n",
              "      <td>10246509</td>\n",
              "      <td>195</td>\n",
              "      <td>Gibraltar</td>\n",
              "      <td>34.16</td>\n",
              "      <td>34</td>\n",
              "      <td>1</td>\n",
              "      <td>34.16</td>\n",
              "      <td>34.16</td>\n",
              "      <td>0.0</td>\n",
              "      <td>0.0</td>\n",
              "      <td>0.0</td>\n",
              "      <td>0.0</td>\n",
              "      <td>0.0</td>\n",
              "      <td>0.0</td>\n",
              "      <td>UEFA</td>\n",
              "      <td>Gibraltar</td>\n",
              "      <td>Estonia</td>\n",
              "      <td>0</td>\n",
              "      <td>1</td>\n",
              "      <td>Friendly</td>\n",
              "      <td>Gibraltar</td>\n",
              "      <td>False</td>\n",
              "    </tr>\n",
              "  </tbody>\n",
              "</table>\n",
              "</div>"
            ],
            "text/plain": [
              "         Unnamed: 0  rank  ...       city  neutral\n",
              "4128099    10246504   195  ...  Gibraltar    False\n",
              "4128100    10246505   195  ...  Gibraltar    False\n",
              "4128101    10246506   195  ...  Gibraltar    False\n",
              "4128102    10246508   195  ...  Gibraltar    False\n",
              "4128103    10246509   195  ...  Gibraltar    False\n",
              "\n",
              "[5 rows x 22 columns]"
            ]
          },
          "metadata": {
            "tags": []
          },
          "execution_count": 166
        }
      ]
    },
    {
      "cell_type": "markdown",
      "metadata": {
        "id": "jklJTiXwdSfL",
        "colab_type": "text"
      },
      "source": [
        "# 6. Exploratory Data Analysis"
      ]
    },
    {
      "cell_type": "code",
      "metadata": {
        "id": "4CmghpR6a33_",
        "colab_type": "code",
        "outputId": "3805d9c0-46eb-4455-d95f-2d78646fe480",
        "colab": {
          "base_uri": "https://localhost:8080/",
          "height": 241
        }
      },
      "source": [
        "# Change the categorical variables to numerical variables\n",
        "\n",
        "from sklearn.preprocessing import LabelEncoder\n",
        "en = LabelEncoder()\n",
        "\n",
        "game_clean['country'] = en.fit_transform(game_clean['country'])\n",
        "game_clean['home_team'] = en.fit_transform(game_clean['home_team'])\n",
        "game_clean['away_team'] = en.fit_transform(game_clean['away_team'])\n",
        "game_clean['neutral'] = en.fit_transform(game_clean['neutral'])\n",
        "game_clean['tournament'] = en.fit_transform(game_clean['tournament'])\n",
        "game_clean['confederation'] = en.fit_transform(game_clean['confederation'])\n",
        "game_clean['city'] = en.fit_transform(game_clean['city'])\n",
        "\n",
        "game_clean.head()"
      ],
      "execution_count": 205,
      "outputs": [
        {
          "output_type": "execute_result",
          "data": {
            "text/html": [
              "<div>\n",
              "<style scoped>\n",
              "    .dataframe tbody tr th:only-of-type {\n",
              "        vertical-align: middle;\n",
              "    }\n",
              "\n",
              "    .dataframe tbody tr th {\n",
              "        vertical-align: top;\n",
              "    }\n",
              "\n",
              "    .dataframe thead th {\n",
              "        text-align: right;\n",
              "    }\n",
              "</style>\n",
              "<table border=\"1\" class=\"dataframe\">\n",
              "  <thead>\n",
              "    <tr style=\"text-align: right;\">\n",
              "      <th></th>\n",
              "      <th>Unnamed: 0</th>\n",
              "      <th>rank</th>\n",
              "      <th>country</th>\n",
              "      <th>total_points</th>\n",
              "      <th>previous_points</th>\n",
              "      <th>rank_change</th>\n",
              "      <th>cur_year_avg</th>\n",
              "      <th>cur_year_avg_weighted</th>\n",
              "      <th>last_year_avg</th>\n",
              "      <th>last_year_avg_weighted</th>\n",
              "      <th>two_year_ago_avg</th>\n",
              "      <th>two_year_ago_weighted</th>\n",
              "      <th>three_year_ago_avg</th>\n",
              "      <th>three_year_ago_weighted</th>\n",
              "      <th>confederation</th>\n",
              "      <th>home_team</th>\n",
              "      <th>away_team</th>\n",
              "      <th>home_score</th>\n",
              "      <th>away_score</th>\n",
              "      <th>tournament</th>\n",
              "      <th>city</th>\n",
              "      <th>neutral</th>\n",
              "    </tr>\n",
              "  </thead>\n",
              "  <tbody>\n",
              "    <tr>\n",
              "      <th>0</th>\n",
              "      <td>0</td>\n",
              "      <td>1</td>\n",
              "      <td>69</td>\n",
              "      <td>0.0</td>\n",
              "      <td>57</td>\n",
              "      <td>0</td>\n",
              "      <td>0.0</td>\n",
              "      <td>0.0</td>\n",
              "      <td>0.0</td>\n",
              "      <td>0.0</td>\n",
              "      <td>0.0</td>\n",
              "      <td>0.0</td>\n",
              "      <td>0.0</td>\n",
              "      <td>0.0</td>\n",
              "      <td>5</td>\n",
              "      <td>81</td>\n",
              "      <td>234</td>\n",
              "      <td>1</td>\n",
              "      <td>0</td>\n",
              "      <td>50</td>\n",
              "      <td>559</td>\n",
              "      <td>0</td>\n",
              "    </tr>\n",
              "    <tr>\n",
              "      <th>1</th>\n",
              "      <td>1</td>\n",
              "      <td>1</td>\n",
              "      <td>69</td>\n",
              "      <td>0.0</td>\n",
              "      <td>57</td>\n",
              "      <td>0</td>\n",
              "      <td>0.0</td>\n",
              "      <td>0.0</td>\n",
              "      <td>0.0</td>\n",
              "      <td>0.0</td>\n",
              "      <td>0.0</td>\n",
              "      <td>0.0</td>\n",
              "      <td>0.0</td>\n",
              "      <td>0.0</td>\n",
              "      <td>5</td>\n",
              "      <td>81</td>\n",
              "      <td>25</td>\n",
              "      <td>0</td>\n",
              "      <td>3</td>\n",
              "      <td>50</td>\n",
              "      <td>352</td>\n",
              "      <td>0</td>\n",
              "    </tr>\n",
              "    <tr>\n",
              "      <th>2</th>\n",
              "      <td>2</td>\n",
              "      <td>1</td>\n",
              "      <td>69</td>\n",
              "      <td>0.0</td>\n",
              "      <td>57</td>\n",
              "      <td>0</td>\n",
              "      <td>0.0</td>\n",
              "      <td>0.0</td>\n",
              "      <td>0.0</td>\n",
              "      <td>0.0</td>\n",
              "      <td>0.0</td>\n",
              "      <td>0.0</td>\n",
              "      <td>0.0</td>\n",
              "      <td>0.0</td>\n",
              "      <td>5</td>\n",
              "      <td>81</td>\n",
              "      <td>167</td>\n",
              "      <td>1</td>\n",
              "      <td>2</td>\n",
              "      <td>50</td>\n",
              "      <td>588</td>\n",
              "      <td>0</td>\n",
              "    </tr>\n",
              "    <tr>\n",
              "      <th>3</th>\n",
              "      <td>4</td>\n",
              "      <td>1</td>\n",
              "      <td>69</td>\n",
              "      <td>0.0</td>\n",
              "      <td>57</td>\n",
              "      <td>0</td>\n",
              "      <td>0.0</td>\n",
              "      <td>0.0</td>\n",
              "      <td>0.0</td>\n",
              "      <td>0.0</td>\n",
              "      <td>0.0</td>\n",
              "      <td>0.0</td>\n",
              "      <td>0.0</td>\n",
              "      <td>0.0</td>\n",
              "      <td>5</td>\n",
              "      <td>81</td>\n",
              "      <td>17</td>\n",
              "      <td>1</td>\n",
              "      <td>2</td>\n",
              "      <td>50</td>\n",
              "      <td>346</td>\n",
              "      <td>0</td>\n",
              "    </tr>\n",
              "    <tr>\n",
              "      <th>4</th>\n",
              "      <td>5</td>\n",
              "      <td>1</td>\n",
              "      <td>69</td>\n",
              "      <td>0.0</td>\n",
              "      <td>57</td>\n",
              "      <td>0</td>\n",
              "      <td>0.0</td>\n",
              "      <td>0.0</td>\n",
              "      <td>0.0</td>\n",
              "      <td>0.0</td>\n",
              "      <td>0.0</td>\n",
              "      <td>0.0</td>\n",
              "      <td>0.0</td>\n",
              "      <td>0.0</td>\n",
              "      <td>5</td>\n",
              "      <td>81</td>\n",
              "      <td>233</td>\n",
              "      <td>1</td>\n",
              "      <td>3</td>\n",
              "      <td>50</td>\n",
              "      <td>461</td>\n",
              "      <td>0</td>\n",
              "    </tr>\n",
              "  </tbody>\n",
              "</table>\n",
              "</div>"
            ],
            "text/plain": [
              "   Unnamed: 0  rank  country  ...  tournament  city  neutral\n",
              "0           0     1       69  ...          50   559        0\n",
              "1           1     1       69  ...          50   352        0\n",
              "2           2     1       69  ...          50   588        0\n",
              "3           4     1       69  ...          50   346        0\n",
              "4           5     1       69  ...          50   461        0\n",
              "\n",
              "[5 rows x 22 columns]"
            ]
          },
          "metadata": {
            "tags": []
          },
          "execution_count": 205
        }
      ]
    },
    {
      "cell_type": "markdown",
      "metadata": {
        "id": "XRuBf-l4QRT6",
        "colab_type": "text"
      },
      "source": [
        "## Univariate Analysis"
      ]
    },
    {
      "cell_type": "code",
      "metadata": {
        "id": "5JG_nIfJIjYq",
        "colab_type": "code",
        "colab": {
          "base_uri": "https://localhost:8080/",
          "height": 285
        },
        "outputId": "f18bffbc-bb20-4df3-b148-bb535e3e510e"
      },
      "source": [
        "game_clean['rank'].head(80000).value_counts().plot(kind= 'bar')"
      ],
      "execution_count": 156,
      "outputs": [
        {
          "output_type": "execute_result",
          "data": {
            "text/plain": [
              "<matplotlib.axes._subplots.AxesSubplot at 0x7fd6f78531d0>"
            ]
          },
          "metadata": {
            "tags": []
          },
          "execution_count": 156
        },
        {
          "output_type": "display_data",
          "data": {
            "image/png": "[encoded data removed]",
            "text/plain": [
              "<Figure size 432x288 with 1 Axes>"
            ]
          },
          "metadata": {
            "tags": [],
            "needs_background": "light"
          }
        }
      ]
    },
    {
      "cell_type": "code",
      "metadata": {
        "id": "YLytnLjUJPMN",
        "colab_type": "code",
        "colab": {
          "base_uri": "https://localhost:8080/",
          "height": 291
        },
        "outputId": "c5b649c9-bfe9-473f-8738-aaa87f7948fe"
      },
      "source": [
        "game_clean['country'].head(500000).value_counts().plot(kind= 'bar')"
      ],
      "execution_count": 141,
      "outputs": [
        {
          "output_type": "execute_result",
          "data": {
            "text/plain": [
              "<matplotlib.axes._subplots.AxesSubplot at 0x7fd6f8fe73c8>"
            ]
          },
          "metadata": {
            "tags": []
          },
          "execution_count": 141
        },
        {
          "output_type": "display_data",
          "data": {
            "image/png": "[encoded data removed]",
            "text/plain": [
              "<Figure size 432x288 with 1 Axes>"
            ]
          },
          "metadata": {
            "tags": [],
            "needs_background": "light"
          }
        }
      ]
    },
    {
      "cell_type": "code",
      "metadata": {
        "id": "PymLH9TVJj8N",
        "colab_type": "code",
        "colab": {
          "base_uri": "https://localhost:8080/",
          "height": 285
        },
        "outputId": "4bf239ba-b637-495a-9733-92c91566d8fc"
      },
      "source": [
        "game_clean['tournament'].head(100000).value_counts().plot(kind= 'bar')"
      ],
      "execution_count": 143,
      "outputs": [
        {
          "output_type": "execute_result",
          "data": {
            "text/plain": [
              "<matplotlib.axes._subplots.AxesSubplot at 0x7fd6f8f46b70>"
            ]
          },
          "metadata": {
            "tags": []
          },
          "execution_count": 143
        },
        {
          "output_type": "display_data",
          "data": {
            "image/png": "[encoded data removed]",
            "text/plain": [
              "<Figure size 432x288 with 1 Axes>"
            ]
          },
          "metadata": {
            "tags": [],
            "needs_background": "light"
          }
        }
      ]
    },
    {
      "cell_type": "code",
      "metadata": {
        "id": "Exztg8y2KxmM",
        "colab_type": "code",
        "colab": {
          "base_uri": "https://localhost:8080/",
          "height": 290
        },
        "outputId": "041f6d69-9003-48d3-cdad-2af0cb295d72"
      },
      "source": [
        "game_clean['confederation'].value_counts().plot(kind= 'bar')"
      ],
      "execution_count": 147,
      "outputs": [
        {
          "output_type": "execute_result",
          "data": {
            "text/plain": [
              "<matplotlib.axes._subplots.AxesSubplot at 0x7fd6f8d35e48>"
            ]
          },
          "metadata": {
            "tags": []
          },
          "execution_count": 147
        },
        {
          "output_type": "display_data",
          "data": {
            "image/png": "[encoded data removed]",
            "text/plain": [
              "<Figure size 432x288 with 1 Axes>"
            ]
          },
          "metadata": {
            "tags": [],
            "needs_background": "light"
          }
        }
      ]
    },
    {
      "cell_type": "markdown",
      "metadata": {
        "id": "DMpfKFu5QByF",
        "colab_type": "text"
      },
      "source": [
        "**Observation**\n",
        "1. UEFA competition was the most popular under confederations\n",
        "2. Under ranking, most countries tied at number 5. \n",
        "3. The top ranked countries are Germany, Brazil, France, Spain and Italy.\n",
        "4. The most popular tournament is the Friendly one, followed by the FIFA Workd Cup Qualification"
      ]
    },
    {
      "cell_type": "markdown",
      "metadata": {
        "id": "ZR5mYgHmLRGx",
        "colab_type": "text"
      },
      "source": [
        "## Bivariate Analysis"
      ]
    },
    {
      "cell_type": "code",
      "metadata": {
        "id": "C3egsjz5M5YP",
        "colab_type": "code",
        "colab": {
          "base_uri": "https://localhost:8080/",
          "height": 1000
        },
        "outputId": "ce4e0524-8dd3-4571-d433-259885eda1d5"
      },
      "source": [
        "# Create a correlation matrix\n",
        "correlation = game_clean.corr()\n",
        "correlation\n",
        "\n",
        "\n",
        "fig, ax = plt.subplots(figsize=(20, 20)) \n",
        "sns.heatmap(correlation, annot=True,  linewidths=.5, ax=ax)"
      ],
      "execution_count": 162,
      "outputs": [
        {
          "output_type": "execute_result",
          "data": {
            "text/plain": [
              "<matplotlib.axes._subplots.AxesSubplot at 0x7fd6f5f39358>"
            ]
          },
          "metadata": {
            "tags": []
          },
          "execution_count": 162
        },
        {
          "output_type": "display_data",
          "data": {
            "image/png": "[encoded data removed]",
            "text/plain": [
              "<Figure size 1440x1440 with 2 Axes>"
            ]
          },
          "metadata": {
            "tags": [],
            "needs_background": "light"
          }
        }
      ]
    },
    {
      "cell_type": "markdown",
      "metadata": {
        "id": "Z-IzfdfrPpfs",
        "colab_type": "text"
      },
      "source": [
        "**Observation**\n",
        "\n",
        "There is no strong relation between the team playing at home and their scores or the team playing away and their scores.\n",
        "\n",
        "There is a strong correlation between the variables showing the average points in teh different years."
      ]
    },
    {
      "cell_type": "markdown",
      "metadata": {
        "id": "G0TGyUyiEvS4",
        "colab_type": "text"
      },
      "source": [
        "# 7. Polynomial Regression Model"
      ]
    },
    {
      "cell_type": "markdown",
      "metadata": {
        "id": "T1oF-g_uE_Ob",
        "colab_type": "text"
      },
      "source": [
        "## Hyperparameter tuning"
      ]
    },
    {
      "cell_type": "code",
      "metadata": {
        "id": "1G3SJwnHE0Q8",
        "colab_type": "code",
        "colab": {}
      },
      "source": [
        "from sklearn import linear_model\n",
        "from sklearn.model_selection import GridSearchCV\n",
        "from sklearn.pipeline import Pipeline\n",
        "\n",
        "\n",
        "# Split the dataset into independent and dependent variables\n",
        "\n",
        "X = game_clean[['tournament', 'home_team', 'away_team']].values\n",
        "y = game_clean['home_score'].values"
      ],
      "execution_count": 0,
      "outputs": []
    },
    {
      "cell_type": "markdown",
      "metadata": {
        "id": "lsfhVtWvjnPP",
        "colab_type": "text"
      },
      "source": [
        "## Multicollinearity check"
      ]
    },
    {
      "cell_type": "code",
      "metadata": {
        "id": "Tku221VDpYcL",
        "colab_type": "code",
        "colab": {
          "base_uri": "https://localhost:8080/",
          "height": 627
        },
        "outputId": "0ff06141-39e4-438e-da4b-f572a7cfb3f0"
      },
      "source": [
        "# Remove the serial and admit chance columns, we want to focus on our independent variables only.\n",
        "independent_variables = game_clean.drop(columns=['Unnamed: 0', 'home_score', 'away_score', 'neutral'])\n",
        "\n",
        "# Let's display the correlations between the variables\n",
        "a = independent_variables.corr()\n",
        "a"
      ],
      "execution_count": 40,
      "outputs": [
        {
          "output_type": "execute_result",
          "data": {
            "text/html": [
              "<div>\n",
              "<style scoped>\n",
              "    .dataframe tbody tr th:only-of-type {\n",
              "        vertical-align: middle;\n",
              "    }\n",
              "\n",
              "    .dataframe tbody tr th {\n",
              "        vertical-align: top;\n",
              "    }\n",
              "\n",
              "    .dataframe thead th {\n",
              "        text-align: right;\n",
              "    }\n",
              "</style>\n",
              "<table border=\"1\" class=\"dataframe\">\n",
              "  <thead>\n",
              "    <tr style=\"text-align: right;\">\n",
              "      <th></th>\n",
              "      <th>rank</th>\n",
              "      <th>country</th>\n",
              "      <th>total_points</th>\n",
              "      <th>previous_points</th>\n",
              "      <th>rank_change</th>\n",
              "      <th>cur_year_avg</th>\n",
              "      <th>cur_year_avg_weighted</th>\n",
              "      <th>last_year_avg</th>\n",
              "      <th>last_year_avg_weighted</th>\n",
              "      <th>two_year_ago_avg</th>\n",
              "      <th>two_year_ago_weighted</th>\n",
              "      <th>three_year_ago_avg</th>\n",
              "      <th>three_year_ago_weighted</th>\n",
              "      <th>confederation</th>\n",
              "      <th>home_team</th>\n",
              "      <th>away_team</th>\n",
              "      <th>tournament</th>\n",
              "      <th>city</th>\n",
              "    </tr>\n",
              "  </thead>\n",
              "  <tbody>\n",
              "    <tr>\n",
              "      <th>rank</th>\n",
              "      <td>1.000000</td>\n",
              "      <td>-0.040909</td>\n",
              "      <td>0.289562</td>\n",
              "      <td>-0.545367</td>\n",
              "      <td>-0.071947</td>\n",
              "      <td>0.260609</td>\n",
              "      <td>0.260609</td>\n",
              "      <td>0.277587</td>\n",
              "      <td>0.277587</td>\n",
              "      <td>0.283250</td>\n",
              "      <td>0.283251</td>\n",
              "      <td>0.287691</td>\n",
              "      <td>0.287692</td>\n",
              "      <td>-0.431906</td>\n",
              "      <td>-0.035420</td>\n",
              "      <td>0.029664</td>\n",
              "      <td>-0.164492</td>\n",
              "      <td>-0.004832</td>\n",
              "    </tr>\n",
              "    <tr>\n",
              "      <th>country</th>\n",
              "      <td>-0.040909</td>\n",
              "      <td>1.000000</td>\n",
              "      <td>0.022759</td>\n",
              "      <td>0.004942</td>\n",
              "      <td>-0.003092</td>\n",
              "      <td>0.024149</td>\n",
              "      <td>0.024149</td>\n",
              "      <td>0.017345</td>\n",
              "      <td>0.017345</td>\n",
              "      <td>0.017492</td>\n",
              "      <td>0.017492</td>\n",
              "      <td>0.022528</td>\n",
              "      <td>0.022528</td>\n",
              "      <td>-0.062513</td>\n",
              "      <td>0.989012</td>\n",
              "      <td>-0.018820</td>\n",
              "      <td>-0.051181</td>\n",
              "      <td>-0.067721</td>\n",
              "    </tr>\n",
              "    <tr>\n",
              "      <th>total_points</th>\n",
              "      <td>0.289562</td>\n",
              "      <td>0.022759</td>\n",
              "      <td>1.000000</td>\n",
              "      <td>-0.130465</td>\n",
              "      <td>0.021172</td>\n",
              "      <td>0.966591</td>\n",
              "      <td>0.966591</td>\n",
              "      <td>0.920717</td>\n",
              "      <td>0.920718</td>\n",
              "      <td>0.889381</td>\n",
              "      <td>0.889383</td>\n",
              "      <td>0.882349</td>\n",
              "      <td>0.882349</td>\n",
              "      <td>-0.169250</td>\n",
              "      <td>0.025457</td>\n",
              "      <td>0.024319</td>\n",
              "      <td>-0.058832</td>\n",
              "      <td>-0.024646</td>\n",
              "    </tr>\n",
              "    <tr>\n",
              "      <th>previous_points</th>\n",
              "      <td>-0.545367</td>\n",
              "      <td>0.004942</td>\n",
              "      <td>-0.130465</td>\n",
              "      <td>1.000000</td>\n",
              "      <td>0.062922</td>\n",
              "      <td>-0.115797</td>\n",
              "      <td>-0.115797</td>\n",
              "      <td>-0.125744</td>\n",
              "      <td>-0.125744</td>\n",
              "      <td>-0.130206</td>\n",
              "      <td>-0.130206</td>\n",
              "      <td>-0.132364</td>\n",
              "      <td>-0.132365</td>\n",
              "      <td>0.265948</td>\n",
              "      <td>0.002354</td>\n",
              "      <td>-0.018341</td>\n",
              "      <td>0.098647</td>\n",
              "      <td>0.005091</td>\n",
              "    </tr>\n",
              "    <tr>\n",
              "      <th>rank_change</th>\n",
              "      <td>-0.071947</td>\n",
              "      <td>-0.003092</td>\n",
              "      <td>0.021172</td>\n",
              "      <td>0.062922</td>\n",
              "      <td>1.000000</td>\n",
              "      <td>0.023186</td>\n",
              "      <td>0.023186</td>\n",
              "      <td>0.016481</td>\n",
              "      <td>0.016481</td>\n",
              "      <td>0.019249</td>\n",
              "      <td>0.019250</td>\n",
              "      <td>0.011921</td>\n",
              "      <td>0.011921</td>\n",
              "      <td>0.038428</td>\n",
              "      <td>-0.003906</td>\n",
              "      <td>-0.002904</td>\n",
              "      <td>0.016553</td>\n",
              "      <td>-0.002082</td>\n",
              "    </tr>\n",
              "    <tr>\n",
              "      <th>cur_year_avg</th>\n",
              "      <td>0.260609</td>\n",
              "      <td>0.024149</td>\n",
              "      <td>0.966591</td>\n",
              "      <td>-0.115797</td>\n",
              "      <td>0.023186</td>\n",
              "      <td>1.000000</td>\n",
              "      <td>1.000000</td>\n",
              "      <td>0.815358</td>\n",
              "      <td>0.815359</td>\n",
              "      <td>0.797851</td>\n",
              "      <td>0.797852</td>\n",
              "      <td>0.801641</td>\n",
              "      <td>0.801640</td>\n",
              "      <td>-0.158873</td>\n",
              "      <td>0.026645</td>\n",
              "      <td>0.023491</td>\n",
              "      <td>-0.056921</td>\n",
              "      <td>-0.022258</td>\n",
              "    </tr>\n",
              "    <tr>\n",
              "      <th>cur_year_avg_weighted</th>\n",
              "      <td>0.260609</td>\n",
              "      <td>0.024149</td>\n",
              "      <td>0.966591</td>\n",
              "      <td>-0.115797</td>\n",
              "      <td>0.023186</td>\n",
              "      <td>1.000000</td>\n",
              "      <td>1.000000</td>\n",
              "      <td>0.815358</td>\n",
              "      <td>0.815359</td>\n",
              "      <td>0.797851</td>\n",
              "      <td>0.797852</td>\n",
              "      <td>0.801641</td>\n",
              "      <td>0.801640</td>\n",
              "      <td>-0.158873</td>\n",
              "      <td>0.026645</td>\n",
              "      <td>0.023491</td>\n",
              "      <td>-0.056921</td>\n",
              "      <td>-0.022258</td>\n",
              "    </tr>\n",
              "    <tr>\n",
              "      <th>last_year_avg</th>\n",
              "      <td>0.277587</td>\n",
              "      <td>0.017345</td>\n",
              "      <td>0.920717</td>\n",
              "      <td>-0.125744</td>\n",
              "      <td>0.016481</td>\n",
              "      <td>0.815358</td>\n",
              "      <td>0.815358</td>\n",
              "      <td>1.000000</td>\n",
              "      <td>1.000000</td>\n",
              "      <td>0.810181</td>\n",
              "      <td>0.810182</td>\n",
              "      <td>0.811778</td>\n",
              "      <td>0.811781</td>\n",
              "      <td>-0.156487</td>\n",
              "      <td>0.019901</td>\n",
              "      <td>0.022292</td>\n",
              "      <td>-0.055199</td>\n",
              "      <td>-0.022796</td>\n",
              "    </tr>\n",
              "    <tr>\n",
              "      <th>last_year_avg_weighted</th>\n",
              "      <td>0.277587</td>\n",
              "      <td>0.017345</td>\n",
              "      <td>0.920718</td>\n",
              "      <td>-0.125744</td>\n",
              "      <td>0.016481</td>\n",
              "      <td>0.815359</td>\n",
              "      <td>0.815359</td>\n",
              "      <td>1.000000</td>\n",
              "      <td>1.000000</td>\n",
              "      <td>0.810181</td>\n",
              "      <td>0.810183</td>\n",
              "      <td>0.811779</td>\n",
              "      <td>0.811782</td>\n",
              "      <td>-0.156488</td>\n",
              "      <td>0.019900</td>\n",
              "      <td>0.022292</td>\n",
              "      <td>-0.055199</td>\n",
              "      <td>-0.022797</td>\n",
              "    </tr>\n",
              "    <tr>\n",
              "      <th>two_year_ago_avg</th>\n",
              "      <td>0.283250</td>\n",
              "      <td>0.017492</td>\n",
              "      <td>0.889381</td>\n",
              "      <td>-0.130206</td>\n",
              "      <td>0.019249</td>\n",
              "      <td>0.797851</td>\n",
              "      <td>0.797851</td>\n",
              "      <td>0.810181</td>\n",
              "      <td>0.810181</td>\n",
              "      <td>1.000000</td>\n",
              "      <td>1.000000</td>\n",
              "      <td>0.814019</td>\n",
              "      <td>0.814019</td>\n",
              "      <td>-0.158333</td>\n",
              "      <td>0.020020</td>\n",
              "      <td>0.021523</td>\n",
              "      <td>-0.050812</td>\n",
              "      <td>-0.023587</td>\n",
              "    </tr>\n",
              "    <tr>\n",
              "      <th>two_year_ago_weighted</th>\n",
              "      <td>0.283251</td>\n",
              "      <td>0.017492</td>\n",
              "      <td>0.889383</td>\n",
              "      <td>-0.130206</td>\n",
              "      <td>0.019250</td>\n",
              "      <td>0.797852</td>\n",
              "      <td>0.797852</td>\n",
              "      <td>0.810182</td>\n",
              "      <td>0.810183</td>\n",
              "      <td>1.000000</td>\n",
              "      <td>1.000000</td>\n",
              "      <td>0.814020</td>\n",
              "      <td>0.814020</td>\n",
              "      <td>-0.158333</td>\n",
              "      <td>0.020020</td>\n",
              "      <td>0.021523</td>\n",
              "      <td>-0.050812</td>\n",
              "      <td>-0.023587</td>\n",
              "    </tr>\n",
              "    <tr>\n",
              "      <th>three_year_ago_avg</th>\n",
              "      <td>0.287691</td>\n",
              "      <td>0.022528</td>\n",
              "      <td>0.882349</td>\n",
              "      <td>-0.132364</td>\n",
              "      <td>0.011921</td>\n",
              "      <td>0.801641</td>\n",
              "      <td>0.801641</td>\n",
              "      <td>0.811778</td>\n",
              "      <td>0.811779</td>\n",
              "      <td>0.814019</td>\n",
              "      <td>0.814020</td>\n",
              "      <td>1.000000</td>\n",
              "      <td>1.000000</td>\n",
              "      <td>-0.160292</td>\n",
              "      <td>0.025116</td>\n",
              "      <td>0.021955</td>\n",
              "      <td>-0.051194</td>\n",
              "      <td>-0.027032</td>\n",
              "    </tr>\n",
              "    <tr>\n",
              "      <th>three_year_ago_weighted</th>\n",
              "      <td>0.287692</td>\n",
              "      <td>0.022528</td>\n",
              "      <td>0.882349</td>\n",
              "      <td>-0.132365</td>\n",
              "      <td>0.011921</td>\n",
              "      <td>0.801640</td>\n",
              "      <td>0.801640</td>\n",
              "      <td>0.811781</td>\n",
              "      <td>0.811782</td>\n",
              "      <td>0.814019</td>\n",
              "      <td>0.814020</td>\n",
              "      <td>1.000000</td>\n",
              "      <td>1.000000</td>\n",
              "      <td>-0.160291</td>\n",
              "      <td>0.025117</td>\n",
              "      <td>0.021955</td>\n",
              "      <td>-0.051194</td>\n",
              "      <td>-0.027032</td>\n",
              "    </tr>\n",
              "    <tr>\n",
              "      <th>confederation</th>\n",
              "      <td>-0.431906</td>\n",
              "      <td>-0.062513</td>\n",
              "      <td>-0.169250</td>\n",
              "      <td>0.265948</td>\n",
              "      <td>0.038428</td>\n",
              "      <td>-0.158873</td>\n",
              "      <td>-0.158873</td>\n",
              "      <td>-0.156487</td>\n",
              "      <td>-0.156488</td>\n",
              "      <td>-0.158333</td>\n",
              "      <td>-0.158333</td>\n",
              "      <td>-0.160292</td>\n",
              "      <td>-0.160291</td>\n",
              "      <td>1.000000</td>\n",
              "      <td>-0.069521</td>\n",
              "      <td>-0.051450</td>\n",
              "      <td>0.364005</td>\n",
              "      <td>0.077030</td>\n",
              "    </tr>\n",
              "    <tr>\n",
              "      <th>home_team</th>\n",
              "      <td>-0.035420</td>\n",
              "      <td>0.989012</td>\n",
              "      <td>0.025457</td>\n",
              "      <td>0.002354</td>\n",
              "      <td>-0.003906</td>\n",
              "      <td>0.026645</td>\n",
              "      <td>0.026645</td>\n",
              "      <td>0.019901</td>\n",
              "      <td>0.019900</td>\n",
              "      <td>0.020020</td>\n",
              "      <td>0.020020</td>\n",
              "      <td>0.025116</td>\n",
              "      <td>0.025117</td>\n",
              "      <td>-0.069521</td>\n",
              "      <td>1.000000</td>\n",
              "      <td>-0.017586</td>\n",
              "      <td>-0.051060</td>\n",
              "      <td>-0.066245</td>\n",
              "    </tr>\n",
              "    <tr>\n",
              "      <th>away_team</th>\n",
              "      <td>0.029664</td>\n",
              "      <td>-0.018820</td>\n",
              "      <td>0.024319</td>\n",
              "      <td>-0.018341</td>\n",
              "      <td>-0.002904</td>\n",
              "      <td>0.023491</td>\n",
              "      <td>0.023491</td>\n",
              "      <td>0.022292</td>\n",
              "      <td>0.022292</td>\n",
              "      <td>0.021523</td>\n",
              "      <td>0.021523</td>\n",
              "      <td>0.021955</td>\n",
              "      <td>0.021955</td>\n",
              "      <td>-0.051450</td>\n",
              "      <td>-0.017586</td>\n",
              "      <td>1.000000</td>\n",
              "      <td>-0.028443</td>\n",
              "      <td>-0.016797</td>\n",
              "    </tr>\n",
              "    <tr>\n",
              "      <th>tournament</th>\n",
              "      <td>-0.164492</td>\n",
              "      <td>-0.051181</td>\n",
              "      <td>-0.058832</td>\n",
              "      <td>0.098647</td>\n",
              "      <td>0.016553</td>\n",
              "      <td>-0.056921</td>\n",
              "      <td>-0.056921</td>\n",
              "      <td>-0.055199</td>\n",
              "      <td>-0.055199</td>\n",
              "      <td>-0.050812</td>\n",
              "      <td>-0.050812</td>\n",
              "      <td>-0.051194</td>\n",
              "      <td>-0.051194</td>\n",
              "      <td>0.364005</td>\n",
              "      <td>-0.051060</td>\n",
              "      <td>-0.028443</td>\n",
              "      <td>1.000000</td>\n",
              "      <td>0.074167</td>\n",
              "    </tr>\n",
              "    <tr>\n",
              "      <th>city</th>\n",
              "      <td>-0.004832</td>\n",
              "      <td>-0.067721</td>\n",
              "      <td>-0.024646</td>\n",
              "      <td>0.005091</td>\n",
              "      <td>-0.002082</td>\n",
              "      <td>-0.022258</td>\n",
              "      <td>-0.022258</td>\n",
              "      <td>-0.022796</td>\n",
              "      <td>-0.022797</td>\n",
              "      <td>-0.023587</td>\n",
              "      <td>-0.023587</td>\n",
              "      <td>-0.027032</td>\n",
              "      <td>-0.027032</td>\n",
              "      <td>0.077030</td>\n",
              "      <td>-0.066245</td>\n",
              "      <td>-0.016797</td>\n",
              "      <td>0.074167</td>\n",
              "      <td>1.000000</td>\n",
              "    </tr>\n",
              "  </tbody>\n",
              "</table>\n",
              "</div>"
            ],
            "text/plain": [
              "                             rank   country  ...  tournament      city\n",
              "rank                     1.000000 -0.040909  ...   -0.164492 -0.004832\n",
              "country                 -0.040909  1.000000  ...   -0.051181 -0.067721\n",
              "total_points             0.289562  0.022759  ...   -0.058832 -0.024646\n",
              "previous_points         -0.545367  0.004942  ...    0.098647  0.005091\n",
              "rank_change             -0.071947 -0.003092  ...    0.016553 -0.002082\n",
              "cur_year_avg             0.260609  0.024149  ...   -0.056921 -0.022258\n",
              "cur_year_avg_weighted    0.260609  0.024149  ...   -0.056921 -0.022258\n",
              "last_year_avg            0.277587  0.017345  ...   -0.055199 -0.022796\n",
              "last_year_avg_weighted   0.277587  0.017345  ...   -0.055199 -0.022797\n",
              "two_year_ago_avg         0.283250  0.017492  ...   -0.050812 -0.023587\n",
              "two_year_ago_weighted    0.283251  0.017492  ...   -0.050812 -0.023587\n",
              "three_year_ago_avg       0.287691  0.022528  ...   -0.051194 -0.027032\n",
              "three_year_ago_weighted  0.287692  0.022528  ...   -0.051194 -0.027032\n",
              "confederation           -0.431906 -0.062513  ...    0.364005  0.077030\n",
              "home_team               -0.035420  0.989012  ...   -0.051060 -0.066245\n",
              "away_team                0.029664 -0.018820  ...   -0.028443 -0.016797\n",
              "tournament              -0.164492 -0.051181  ...    1.000000  0.074167\n",
              "city                    -0.004832 -0.067721  ...    0.074167  1.000000\n",
              "\n",
              "[18 rows x 18 columns]"
            ]
          },
          "metadata": {
            "tags": []
          },
          "execution_count": 40
        }
      ]
    },
    {
      "cell_type": "code",
      "metadata": {
        "id": "o-NYHuwkszT-",
        "colab_type": "code",
        "colab": {
          "base_uri": "https://localhost:8080/",
          "height": 627
        },
        "outputId": "7ee6e8e6-5b5b-42c9-9d47-39fa52ff8aca"
      },
      "source": [
        "pd.DataFrame(np.linalg.inv(a.values), index = a.index, columns=a.columns)\n"
      ],
      "execution_count": 41,
      "outputs": [
        {
          "output_type": "execute_result",
          "data": {
            "text/html": [
              "<div>\n",
              "<style scoped>\n",
              "    .dataframe tbody tr th:only-of-type {\n",
              "        vertical-align: middle;\n",
              "    }\n",
              "\n",
              "    .dataframe tbody tr th {\n",
              "        vertical-align: top;\n",
              "    }\n",
              "\n",
              "    .dataframe thead th {\n",
              "        text-align: right;\n",
              "    }\n",
              "</style>\n",
              "<table border=\"1\" class=\"dataframe\">\n",
              "  <thead>\n",
              "    <tr style=\"text-align: right;\">\n",
              "      <th></th>\n",
              "      <th>rank</th>\n",
              "      <th>country</th>\n",
              "      <th>total_points</th>\n",
              "      <th>previous_points</th>\n",
              "      <th>rank_change</th>\n",
              "      <th>cur_year_avg</th>\n",
              "      <th>cur_year_avg_weighted</th>\n",
              "      <th>last_year_avg</th>\n",
              "      <th>last_year_avg_weighted</th>\n",
              "      <th>two_year_ago_avg</th>\n",
              "      <th>two_year_ago_weighted</th>\n",
              "      <th>three_year_ago_avg</th>\n",
              "      <th>three_year_ago_weighted</th>\n",
              "      <th>confederation</th>\n",
              "      <th>home_team</th>\n",
              "      <th>away_team</th>\n",
              "      <th>tournament</th>\n",
              "      <th>city</th>\n",
              "    </tr>\n",
              "  </thead>\n",
              "  <tbody>\n",
              "    <tr>\n",
              "      <th>rank</th>\n",
              "      <td>1.755021e+00</td>\n",
              "      <td>1.927307e-01</td>\n",
              "      <td>3.462867e+02</td>\n",
              "      <td>7.676467e-01</td>\n",
              "      <td>6.477282e-02</td>\n",
              "      <td>2.420108e+11</td>\n",
              "      <td>-2.421000e+11</td>\n",
              "      <td>-2.052746e+02</td>\n",
              "      <td>1.102655e+02</td>\n",
              "      <td>-7.156245e+00</td>\n",
              "      <td>-4.682992e+01</td>\n",
              "      <td>3.772315e+03</td>\n",
              "      <td>-3.810110e+03</td>\n",
              "      <td>4.961491e-01</td>\n",
              "      <td>-8.779710e-02</td>\n",
              "      <td>-2.489406e-03</td>\n",
              "      <td>2.200306e-02</td>\n",
              "      <td>-3.674013e-02</td>\n",
              "    </tr>\n",
              "    <tr>\n",
              "      <th>country</th>\n",
              "      <td>1.945180e-01</td>\n",
              "      <td>4.590137e+01</td>\n",
              "      <td>-1.010781e+01</td>\n",
              "      <td>4.781283e-02</td>\n",
              "      <td>-1.657968e-02</td>\n",
              "      <td>3.552634e+10</td>\n",
              "      <td>-3.551998e+10</td>\n",
              "      <td>-3.438030e+01</td>\n",
              "      <td>3.711371e+01</td>\n",
              "      <td>-9.475009e+01</td>\n",
              "      <td>9.633250e+01</td>\n",
              "      <td>5.213713e+02</td>\n",
              "      <td>-5.204916e+02</td>\n",
              "      <td>-2.713276e-01</td>\n",
              "      <td>-4.539337e+01</td>\n",
              "      <td>5.225130e-02</td>\n",
              "      <td>1.526254e-01</td>\n",
              "      <td>1.131788e-01</td>\n",
              "    </tr>\n",
              "    <tr>\n",
              "      <th>total_points</th>\n",
              "      <td>-1.737985e+03</td>\n",
              "      <td>1.225734e+02</td>\n",
              "      <td>2.991737e+08</td>\n",
              "      <td>1.008346e+02</td>\n",
              "      <td>-3.818864e+01</td>\n",
              "      <td>-5.938249e+16</td>\n",
              "      <td>5.938249e+16</td>\n",
              "      <td>5.553529e+07</td>\n",
              "      <td>-1.370069e+08</td>\n",
              "      <td>3.048842e+06</td>\n",
              "      <td>-4.956204e+07</td>\n",
              "      <td>-9.193598e+08</td>\n",
              "      <td>8.881305e+08</td>\n",
              "      <td>-1.059113e+03</td>\n",
              "      <td>-4.706387e+02</td>\n",
              "      <td>4.721288e+01</td>\n",
              "      <td>-2.932179e+02</td>\n",
              "      <td>5.005563e-01</td>\n",
              "    </tr>\n",
              "    <tr>\n",
              "      <th>previous_points</th>\n",
              "      <td>7.679777e-01</td>\n",
              "      <td>4.789101e-02</td>\n",
              "      <td>-1.487475e+01</td>\n",
              "      <td>1.429053e+00</td>\n",
              "      <td>-3.166514e-02</td>\n",
              "      <td>-4.007992e+09</td>\n",
              "      <td>4.007668e+09</td>\n",
              "      <td>3.828294e+00</td>\n",
              "      <td>2.081457e-01</td>\n",
              "      <td>4.017121e+00</td>\n",
              "      <td>-1.709046e+00</td>\n",
              "      <td>-6.875043e+01</td>\n",
              "      <td>7.029190e+01</td>\n",
              "      <td>-5.518193e-02</td>\n",
              "      <td>-2.604933e-02</td>\n",
              "      <td>2.175816e-03</td>\n",
              "      <td>4.426372e-03</td>\n",
              "      <td>7.159515e-04</td>\n",
              "    </tr>\n",
              "    <tr>\n",
              "      <th>rank_change</th>\n",
              "      <td>6.837342e-02</td>\n",
              "      <td>-1.712874e-02</td>\n",
              "      <td>3.345681e+02</td>\n",
              "      <td>-3.192429e-02</td>\n",
              "      <td>1.008705e+00</td>\n",
              "      <td>1.459071e+11</td>\n",
              "      <td>-1.459071e+11</td>\n",
              "      <td>-1.225561e+02</td>\n",
              "      <td>3.148209e+01</td>\n",
              "      <td>-1.093005e+02</td>\n",
              "      <td>5.724831e+01</td>\n",
              "      <td>2.183997e+03</td>\n",
              "      <td>-2.218897e+03</td>\n",
              "      <td>-6.129394e-03</td>\n",
              "      <td>2.481943e-02</td>\n",
              "      <td>1.052784e-03</td>\n",
              "      <td>-1.589422e-03</td>\n",
              "      <td>2.776863e-03</td>\n",
              "    </tr>\n",
              "    <tr>\n",
              "      <th>cur_year_avg</th>\n",
              "      <td>2.356612e+11</td>\n",
              "      <td>-2.514821e+10</td>\n",
              "      <td>1.182040e+16</td>\n",
              "      <td>-1.496418e+10</td>\n",
              "      <td>2.173327e+10</td>\n",
              "      <td>8.089061e+24</td>\n",
              "      <td>-8.089061e+24</td>\n",
              "      <td>-1.491622e+16</td>\n",
              "      <td>1.169936e+16</td>\n",
              "      <td>-6.498246e+15</td>\n",
              "      <td>4.659915e+15</td>\n",
              "      <td>1.209747e+17</td>\n",
              "      <td>-1.222089e+17</td>\n",
              "      <td>1.582629e+11</td>\n",
              "      <td>8.208766e+10</td>\n",
              "      <td>-5.247797e+09</td>\n",
              "      <td>3.803827e+10</td>\n",
              "      <td>-3.288978e+08</td>\n",
              "    </tr>\n",
              "    <tr>\n",
              "      <th>cur_year_avg_weighted</th>\n",
              "      <td>-2.356612e+11</td>\n",
              "      <td>2.514821e+10</td>\n",
              "      <td>-1.182040e+16</td>\n",
              "      <td>1.496418e+10</td>\n",
              "      <td>-2.173327e+10</td>\n",
              "      <td>-8.089061e+24</td>\n",
              "      <td>8.089061e+24</td>\n",
              "      <td>1.491622e+16</td>\n",
              "      <td>-1.169936e+16</td>\n",
              "      <td>6.498246e+15</td>\n",
              "      <td>-4.659915e+15</td>\n",
              "      <td>-1.209747e+17</td>\n",
              "      <td>1.222089e+17</td>\n",
              "      <td>-1.582629e+11</td>\n",
              "      <td>-8.208766e+10</td>\n",
              "      <td>5.247797e+09</td>\n",
              "      <td>-3.803827e+10</td>\n",
              "      <td>3.288978e+08</td>\n",
              "    </tr>\n",
              "    <tr>\n",
              "      <th>last_year_avg</th>\n",
              "      <td>9.766393e+03</td>\n",
              "      <td>-9.853239e+02</td>\n",
              "      <td>4.237931e+08</td>\n",
              "      <td>-6.083882e+02</td>\n",
              "      <td>1.024918e+03</td>\n",
              "      <td>3.269451e+17</td>\n",
              "      <td>-3.269451e+17</td>\n",
              "      <td>-2.795808e+08</td>\n",
              "      <td>1.642539e+08</td>\n",
              "      <td>-2.582548e+08</td>\n",
              "      <td>1.923435e+08</td>\n",
              "      <td>4.885340e+09</td>\n",
              "      <td>-4.929590e+09</td>\n",
              "      <td>6.481707e+03</td>\n",
              "      <td>3.187850e+03</td>\n",
              "      <td>-2.548193e+02</td>\n",
              "      <td>1.479098e+03</td>\n",
              "      <td>-1.093875e+02</td>\n",
              "    </tr>\n",
              "    <tr>\n",
              "      <th>last_year_avg_weighted</th>\n",
              "      <td>-9.293305e+03</td>\n",
              "      <td>9.519745e+02</td>\n",
              "      <td>-5.052549e+08</td>\n",
              "      <td>5.809216e+02</td>\n",
              "      <td>-1.014528e+03</td>\n",
              "      <td>-3.107777e+17</td>\n",
              "      <td>3.107777e+17</td>\n",
              "      <td>2.644607e+08</td>\n",
              "      <td>-1.269499e+08</td>\n",
              "      <td>2.574263e+08</td>\n",
              "      <td>-1.788500e+08</td>\n",
              "      <td>-4.635034e+09</td>\n",
              "      <td>4.687788e+09</td>\n",
              "      <td>-6.193360e+03</td>\n",
              "      <td>-3.059730e+03</td>\n",
              "      <td>2.419616e+02</td>\n",
              "      <td>-1.399254e+03</td>\n",
              "      <td>1.092527e+02</td>\n",
              "    </tr>\n",
              "    <tr>\n",
              "      <th>two_year_ago_avg</th>\n",
              "      <td>9.951591e+01</td>\n",
              "      <td>-5.682851e+01</td>\n",
              "      <td>-4.906369e+07</td>\n",
              "      <td>6.378155e+00</td>\n",
              "      <td>-1.934101e-01</td>\n",
              "      <td>-3.016767e+15</td>\n",
              "      <td>3.016767e+15</td>\n",
              "      <td>9.955463e+06</td>\n",
              "      <td>3.403702e+06</td>\n",
              "      <td>1.470903e+08</td>\n",
              "      <td>-1.394623e+08</td>\n",
              "      <td>-4.482953e+07</td>\n",
              "      <td>4.995153e+07</td>\n",
              "      <td>4.089465e+01</td>\n",
              "      <td>5.220497e+01</td>\n",
              "      <td>1.210350e+00</td>\n",
              "      <td>4.917918e+00</td>\n",
              "      <td>1.839791e+01</td>\n",
              "    </tr>\n",
              "    <tr>\n",
              "      <th>two_year_ago_weighted</th>\n",
              "      <td>1.705842e+02</td>\n",
              "      <td>3.777589e+01</td>\n",
              "      <td>2.547060e+06</td>\n",
              "      <td>-2.206105e+01</td>\n",
              "      <td>6.106291e+00</td>\n",
              "      <td>1.224970e+16</td>\n",
              "      <td>-1.224970e+16</td>\n",
              "      <td>-1.859025e+07</td>\n",
              "      <td>1.789859e+07</td>\n",
              "      <td>-1.475650e+08</td>\n",
              "      <td>1.471690e+08</td>\n",
              "      <td>1.877735e+08</td>\n",
              "      <td>-1.880399e+08</td>\n",
              "      <td>1.237848e+02</td>\n",
              "      <td>2.096791e+01</td>\n",
              "      <td>-8.551252e+00</td>\n",
              "      <td>4.065460e+01</td>\n",
              "      <td>-1.846990e+01</td>\n",
              "    </tr>\n",
              "    <tr>\n",
              "      <th>three_year_ago_avg</th>\n",
              "      <td>1.751626e+02</td>\n",
              "      <td>-1.201818e+01</td>\n",
              "      <td>-3.019067e+07</td>\n",
              "      <td>-1.017305e+01</td>\n",
              "      <td>3.871896e+00</td>\n",
              "      <td>7.414554e+14</td>\n",
              "      <td>-7.414554e+14</td>\n",
              "      <td>-5.605233e+06</td>\n",
              "      <td>1.382682e+07</td>\n",
              "      <td>-3.083635e+05</td>\n",
              "      <td>5.002171e+06</td>\n",
              "      <td>9.279264e+07</td>\n",
              "      <td>-8.964117e+07</td>\n",
              "      <td>1.065689e+02</td>\n",
              "      <td>4.736655e+01</td>\n",
              "      <td>-4.620856e+00</td>\n",
              "      <td>2.976551e+01</td>\n",
              "      <td>-1.533589e-02</td>\n",
              "    </tr>\n",
              "    <tr>\n",
              "      <th>three_year_ago_weighted</th>\n",
              "      <td>6.144727e+00</td>\n",
              "      <td>-7.800707e-01</td>\n",
              "      <td>-1.039292e+06</td>\n",
              "      <td>-3.635415e-01</td>\n",
              "      <td>1.315601e-01</td>\n",
              "      <td>5.458535e+15</td>\n",
              "      <td>-5.458535e+15</td>\n",
              "      <td>-1.929923e+05</td>\n",
              "      <td>4.760154e+05</td>\n",
              "      <td>-1.061626e+04</td>\n",
              "      <td>1.721977e+05</td>\n",
              "      <td>3.194971e+06</td>\n",
              "      <td>-3.086483e+06</td>\n",
              "      <td>4.015970e+00</td>\n",
              "      <td>1.748349e+00</td>\n",
              "      <td>-3.104972e-01</td>\n",
              "      <td>8.260592e-01</td>\n",
              "      <td>-1.386512e-02</td>\n",
              "    </tr>\n",
              "    <tr>\n",
              "      <th>confederation</th>\n",
              "      <td>4.938595e-01</td>\n",
              "      <td>-2.722833e-01</td>\n",
              "      <td>2.253887e+02</td>\n",
              "      <td>-5.525882e-02</td>\n",
              "      <td>-8.758511e-03</td>\n",
              "      <td>8.395389e+10</td>\n",
              "      <td>-8.395389e+10</td>\n",
              "      <td>-6.980207e+01</td>\n",
              "      <td>8.446030e+00</td>\n",
              "      <td>3.247455e+01</td>\n",
              "      <td>-6.751731e+01</td>\n",
              "      <td>1.347622e+03</td>\n",
              "      <td>-1.371150e+03</td>\n",
              "      <td>1.403103e+00</td>\n",
              "      <td>3.586042e-01</td>\n",
              "      <td>4.338519e-02</td>\n",
              "      <td>-4.092711e-01</td>\n",
              "      <td>-6.755371e-02</td>\n",
              "    </tr>\n",
              "    <tr>\n",
              "      <th>home_team</th>\n",
              "      <td>-9.420461e-02</td>\n",
              "      <td>-4.539331e+01</td>\n",
              "      <td>-6.626135e+01</td>\n",
              "      <td>-2.575770e-02</td>\n",
              "      <td>2.297429e-02</td>\n",
              "      <td>-1.356584e+11</td>\n",
              "      <td>1.356584e+11</td>\n",
              "      <td>1.201698e+02</td>\n",
              "      <td>-1.021681e+02</td>\n",
              "      <td>1.917985e+02</td>\n",
              "      <td>-1.814914e+02</td>\n",
              "      <td>-1.988976e+03</td>\n",
              "      <td>1.995872e+03</td>\n",
              "      <td>3.550980e-01</td>\n",
              "      <td>4.590674e+01</td>\n",
              "      <td>-2.909945e-02</td>\n",
              "      <td>-1.230723e-01</td>\n",
              "      <td>-5.367002e-02</td>\n",
              "    </tr>\n",
              "    <tr>\n",
              "      <th>away_team</th>\n",
              "      <td>-3.598942e-03</td>\n",
              "      <td>5.240947e-02</td>\n",
              "      <td>-5.483479e+01</td>\n",
              "      <td>2.253634e-03</td>\n",
              "      <td>1.030645e-03</td>\n",
              "      <td>-4.347083e+10</td>\n",
              "      <td>4.347083e+10</td>\n",
              "      <td>3.744724e+01</td>\n",
              "      <td>-2.252887e+01</td>\n",
              "      <td>3.417497e+01</td>\n",
              "      <td>-2.564674e+01</td>\n",
              "      <td>-6.542612e+02</td>\n",
              "      <td>6.599848e+02</td>\n",
              "      <td>4.258915e-02</td>\n",
              "      <td>-2.962860e-02</td>\n",
              "      <td>1.003787e+00</td>\n",
              "      <td>1.115884e-02</td>\n",
              "      <td>1.389334e-02</td>\n",
              "    </tr>\n",
              "    <tr>\n",
              "      <th>tournament</th>\n",
              "      <td>1.916609e-02</td>\n",
              "      <td>1.526398e-01</td>\n",
              "      <td>-9.921834e+01</td>\n",
              "      <td>4.553134e-03</td>\n",
              "      <td>-2.432276e-03</td>\n",
              "      <td>-5.833415e+10</td>\n",
              "      <td>5.833415e+10</td>\n",
              "      <td>4.922861e+01</td>\n",
              "      <td>-2.221215e+01</td>\n",
              "      <td>6.596608e+01</td>\n",
              "      <td>-5.055370e+01</td>\n",
              "      <td>-8.461287e+02</td>\n",
              "      <td>8.564657e+02</td>\n",
              "      <td>-4.108072e-01</td>\n",
              "      <td>-1.230264e-01</td>\n",
              "      <td>1.140110e-02</td>\n",
              "      <td>1.157198e+00</td>\n",
              "      <td>-5.216841e-02</td>\n",
              "    </tr>\n",
              "    <tr>\n",
              "      <th>city</th>\n",
              "      <td>-3.958791e-02</td>\n",
              "      <td>1.134852e-01</td>\n",
              "      <td>-1.452471e+02</td>\n",
              "      <td>8.972429e-04</td>\n",
              "      <td>2.519260e-03</td>\n",
              "      <td>-9.808725e+10</td>\n",
              "      <td>9.808725e+10</td>\n",
              "      <td>8.477874e+01</td>\n",
              "      <td>-4.524880e+01</td>\n",
              "      <td>9.707242e+01</td>\n",
              "      <td>-7.447755e+01</td>\n",
              "      <td>-1.466914e+03</td>\n",
              "      <td>1.482103e+03</td>\n",
              "      <td>-6.946938e-02</td>\n",
              "      <td>-5.467092e-02</td>\n",
              "      <td>1.395520e-02</td>\n",
              "      <td>-5.263203e-02</td>\n",
              "      <td>1.013902e+00</td>\n",
              "    </tr>\n",
              "  </tbody>\n",
              "</table>\n",
              "</div>"
            ],
            "text/plain": [
              "                                 rank       country  ...    tournament          city\n",
              "rank                     1.755021e+00  1.927307e-01  ...  2.200306e-02 -3.674013e-02\n",
              "country                  1.945180e-01  4.590137e+01  ...  1.526254e-01  1.131788e-01\n",
              "total_points            -1.737985e+03  1.225734e+02  ... -2.932179e+02  5.005563e-01\n",
              "previous_points          7.679777e-01  4.789101e-02  ...  4.426372e-03  7.159515e-04\n",
              "rank_change              6.837342e-02 -1.712874e-02  ... -1.589422e-03  2.776863e-03\n",
              "cur_year_avg             2.356612e+11 -2.514821e+10  ...  3.803827e+10 -3.288978e+08\n",
              "cur_year_avg_weighted   -2.356612e+11  2.514821e+10  ... -3.803827e+10  3.288978e+08\n",
              "last_year_avg            9.766393e+03 -9.853239e+02  ...  1.479098e+03 -1.093875e+02\n",
              "last_year_avg_weighted  -9.293305e+03  9.519745e+02  ... -1.399254e+03  1.092527e+02\n",
              "two_year_ago_avg         9.951591e+01 -5.682851e+01  ...  4.917918e+00  1.839791e+01\n",
              "two_year_ago_weighted    1.705842e+02  3.777589e+01  ...  4.065460e+01 -1.846990e+01\n",
              "three_year_ago_avg       1.751626e+02 -1.201818e+01  ...  2.976551e+01 -1.533589e-02\n",
              "three_year_ago_weighted  6.144727e+00 -7.800707e-01  ...  8.260592e-01 -1.386512e-02\n",
              "confederation            4.938595e-01 -2.722833e-01  ... -4.092711e-01 -6.755371e-02\n",
              "home_team               -9.420461e-02 -4.539331e+01  ... -1.230723e-01 -5.367002e-02\n",
              "away_team               -3.598942e-03  5.240947e-02  ...  1.115884e-02  1.389334e-02\n",
              "tournament               1.916609e-02  1.526398e-01  ...  1.157198e+00 -5.216841e-02\n",
              "city                    -3.958791e-02  1.134852e-01  ... -5.263203e-02  1.013902e+00\n",
              "\n",
              "[18 rows x 18 columns]"
            ]
          },
          "metadata": {
            "tags": []
          },
          "execution_count": 41
        }
      ]
    },
    {
      "cell_type": "markdown",
      "metadata": {
        "id": "fG51CeMywFQo",
        "colab_type": "text"
      },
      "source": [
        "From the above, no variable has a VIF greater than 4, meaning no independent variables are correlated. "
      ]
    },
    {
      "cell_type": "markdown",
      "metadata": {
        "id": "2jv_NwCdwbT7",
        "colab_type": "text"
      },
      "source": [
        "## Model 1"
      ]
    },
    {
      "cell_type": "code",
      "metadata": {
        "id": "ZWL9GVJ42zOG",
        "colab_type": "code",
        "colab": {}
      },
      "source": [
        "# Predict how many goals the home team scores given rank of home team, rank of away team and tournament type\n",
        "\n",
        "# Define the X and y variables\n",
        "# My X variables are:\n",
        "# X = game_clean[['tournament', 'home_team', 'away_team']].values\n",
        "\n",
        "# For this regression I'll use them one at a time.\n",
        "\n",
        "# Polynomial regression when X is tournament variable\n",
        "\n",
        "X = game_clean.head(1000)[['tournament']].values\n",
        "y = game_clean.head(1000)['home_score'].values\n"
      ],
      "execution_count": 0,
      "outputs": []
    },
    {
      "cell_type": "code",
      "metadata": {
        "id": "dSPUWZpOb9Ug",
        "colab_type": "code",
        "colab": {
          "base_uri": "https://localhost:8080/",
          "height": 295
        },
        "outputId": "0a605e8b-6d25-4900-ae41-882f8af20e28"
      },
      "source": [
        "# Visualize X and y on a scatter plot\n",
        "\n",
        "plt.scatter(X,y, color='blue') \n",
        "plt.title('Homescores per tournament')\n",
        "plt.xlabel('tournament')\n",
        "plt.ylabel('home_score')\n",
        "plt.show()"
      ],
      "execution_count": 216,
      "outputs": [
        {
          "output_type": "display_data",
          "data": {
            "image/png": "[encoded data removed]",
            "text/plain": [
              "<Figure size 432x288 with 1 Axes>"
            ]
          },
          "metadata": {
            "tags": [],
            "needs_background": "light"
          }
        }
      ]
    },
    {
      "cell_type": "code",
      "metadata": {
        "id": "J4L9aZCSlmxS",
        "colab_type": "code",
        "colab": {
          "base_uri": "https://localhost:8080/",
          "height": 573
        },
        "outputId": "645dc3f3-0f8b-4655-a004-df78211b3795"
      },
      "source": [
        "# Split the dataset into train and test sets\n",
        "X_train, y_train, X_test, y_test = train_test_split(X,y, test_size = 0.2, random_state=0)\n",
        "\n",
        "\n",
        "# Fit Linear Regression model to the dataset\n",
        "\n",
        "reg_line = LinearRegression()\n",
        "reg_line.fit(X,y)\n",
        "\n",
        "# Visualize the Linear Regression results\n",
        "\n",
        "plt.scatter(X, y, color='blue') \n",
        "plt.plot(X, reg_line.predict(X), color='red')\n",
        "plt.title('Homescores per tournament (Linear Regression)')\n",
        "plt.xlabel('tournament')\n",
        "plt.ylabel('home_score')\n",
        "plt.show()\n",
        "\n",
        "\n",
        "# Fit polynomial Regression to the dataset\n",
        "poly_reg = PolynomialFeatures(degree = 38) \n",
        "X_poly = poly_reg.fit_transform(X)\n",
        "\n",
        "\n",
        "pol_reg = LinearRegression()\n",
        "pol_reg.fit(X_poly, y)\n",
        "\n",
        "#Visualize the Polynomial Regression results\n",
        "\n",
        "plt.scatter(X, y, color='blue') \n",
        "plt.plot(X, pol_reg.predict(X_poly), color='red')\n",
        "plt.title('Homescores per tournament (Polynomial Regression)')\n",
        "plt.xlabel('tournament')\n",
        "plt.ylabel('home_score')\n",
        "plt.show()"
      ],
      "execution_count": 252,
      "outputs": [
        {
          "output_type": "display_data",
          "data": {
            "image/png": "[encoded data removed]",
            "text/plain": [
              "<Figure size 432x288 with 1 Axes>"
            ]
          },
          "metadata": {
            "tags": [],
            "needs_background": "light"
          }
        },
        {
          "output_type": "display_data",
          "data": {
            "image/png": "[encoded data removed]",
            "text/plain": [
              "<Figure size 432x288 with 1 Axes>"
            ]
          },
          "metadata": {
            "tags": [],
            "needs_background": "light"
          }
        }
      ]
    },
    {
      "cell_type": "code",
      "metadata": {
        "id": "AMBjtavV5oLm",
        "colab_type": "code",
        "colab": {
          "base_uri": "https://localhost:8080/",
          "height": 51
        },
        "outputId": "969feb71-c7b8-4fc2-fa7e-94e58d72c21f"
      },
      "source": [
        "# Do predictions\n",
        "\n",
        "# Predict using linear regression\n",
        "lin_pred = reg_line.predict([[52]])\n",
        "print('Linear prediction: %d' %lin_pred)\n",
        "\n",
        "# Predict using Polynomial Regression\n",
        "poly_pred = pol_reg.predict(poly_reg.fit_transform([[52]]))\n",
        "print('Polynomial prediction: %d' %poly_pred)"
      ],
      "execution_count": 262,
      "outputs": [
        {
          "output_type": "stream",
          "text": [
            "Linear prediction: 1\n",
            "Polynomial prediction: 1\n"
          ],
          "name": "stdout"
        }
      ]
    },
    {
      "cell_type": "code",
      "metadata": {
        "id": "z0qj6Z11pqnR",
        "colab_type": "code",
        "colab": {
          "base_uri": "https://localhost:8080/",
          "height": 854
        },
        "outputId": "135c1f24-909e-44f6-bb9e-ec6040b075a4"
      },
      "source": [
        "# Polynomial regression when X is home_team variable\n",
        "\n",
        "X = game_clean.head(1000)[['home_team']].values\n",
        "y = game_clean.head(1000)['home_score'].values\n",
        "\n",
        "# Visualize X and y on a scatter plot\n",
        "\n",
        "plt.scatter(X,y, color='blue') \n",
        "plt.title('Homescores per home team')\n",
        "plt.xlabel('home_team')\n",
        "plt.ylabel('home_score')\n",
        "plt.show()\n",
        "\n",
        "# Split the dataset into train and test sets\n",
        "X_train, y_train, X_test, y_test = train_test_split(X,y, test_size = 0.2, random_state=0)\n",
        "\n",
        "\n",
        "# Fit Linear Regression model to the dataset\n",
        "\n",
        "reg_line = LinearRegression()\n",
        "reg_line.fit(X,y)\n",
        "\n",
        "# Visualize the Linear Regression results\n",
        "\n",
        "plt.scatter(X, y, color='blue') \n",
        "plt.plot(X, reg_line.predict(X), color='red')\n",
        "plt.title('Homescores per home team (Linear Regression)')\n",
        "plt.xlabel('home_team')\n",
        "plt.ylabel('home_score')\n",
        "plt.show()\n",
        "\n",
        "\n",
        "# Fit polynomial Regression to the dataset\n",
        "poly_reg = PolynomialFeatures(degree = 2) \n",
        "X_poly = poly_reg.fit_transform(X)\n",
        "\n",
        "\n",
        "pol_reg = LinearRegression()\n",
        "pol_reg.fit(X_poly, y)\n",
        "\n",
        "#Visualize the Polynomial Regression results\n",
        "\n",
        "plt.scatter(X, y, color='blue') \n",
        "plt.plot(X, pol_reg.predict(X_poly), color='red')\n",
        "plt.title('Homescores per home team (Polynomial Regression)')\n",
        "plt.xlabel('home_team')\n",
        "plt.ylabel('home_score')\n",
        "plt.show()"
      ],
      "execution_count": 257,
      "outputs": [
        {
          "output_type": "display_data",
          "data": {
            "image/png": "[encoded data removed]",
            "text/plain": [
              "<Figure size 432x288 with 1 Axes>"
            ]
          },
          "metadata": {
            "tags": [],
            "needs_background": "light"
          }
        },
        {
          "output_type": "display_data",
          "data": {
            "image/png": "[encoded data removed]",
            "text/plain": [
              "<Figure size 432x288 with 1 Axes>"
            ]
          },
          "metadata": {
            "tags": [],
            "needs_background": "light"
          }
        },
        {
          "output_type": "display_data",
          "data": {
            "image/png": "[encoded data removed]",
            "text/plain": [
              "<Figure size 432x288 with 1 Axes>"
            ]
          },
          "metadata": {
            "tags": [],
            "needs_background": "light"
          }
        }
      ]
    },
    {
      "cell_type": "code",
      "metadata": {
        "id": "n-sAMptD73SS",
        "colab_type": "code",
        "colab": {
          "base_uri": "https://localhost:8080/",
          "height": 51
        },
        "outputId": "412f27c6-6c97-4d6e-c28e-8a3e6e577fef"
      },
      "source": [
        "# Do predictions\n",
        "\n",
        "# Predict using linear regression\n",
        "lin_pred = reg_line.predict([[90]])\n",
        "print('Linear prediction: %d' %lin_pred)\n",
        "\n",
        "# Predict using Polynomial Regression\n",
        "poly_pred = pol_reg.predict(poly_reg.fit_transform([[90]]))\n",
        "print('Polynomial prediction: %d' %poly_pred)"
      ],
      "execution_count": 261,
      "outputs": [
        {
          "output_type": "stream",
          "text": [
            "Linear prediction: 1\n",
            "Polynomial prediction: 1\n"
          ],
          "name": "stdout"
        }
      ]
    },
    {
      "cell_type": "code",
      "metadata": {
        "id": "Gyyq2smWqkyS",
        "colab_type": "code",
        "colab": {
          "base_uri": "https://localhost:8080/",
          "height": 854
        },
        "outputId": "c02c83cc-613f-4f71-b80d-1a45780e4003"
      },
      "source": [
        "# Polynomial regression when X is away_team variable\n",
        "\n",
        "X = game_clean.head(5)[['away_team']].values\n",
        "y = game_clean.head(5)['home_score'].values\n",
        "\n",
        "# Visualize X and y on a scatter plot\n",
        "\n",
        "plt.scatter(X,y, color='blue') \n",
        "plt.title('Homescores per away team')\n",
        "plt.xlabel('away_team')\n",
        "plt.ylabel('home_score')\n",
        "plt.show()\n",
        "\n",
        "# Split the dataset into train and test sets\n",
        "X_train, y_train, X_test, y_test = train_test_split(X,y, test_size = 0.2, random_state=0)\n",
        "\n",
        "\n",
        "# Fit Linear Regression model to the dataset\n",
        "\n",
        "reg_line = LinearRegression()\n",
        "reg_line.fit(X,y)\n",
        "\n",
        "# Visualize the Linear Regression results\n",
        "\n",
        "plt.scatter(X, y, color='blue') \n",
        "plt.plot(X, reg_line.predict(X), color='red')\n",
        "plt.title('Homescores per away team (Linear Regression)')\n",
        "plt.xlabel('away_team')\n",
        "plt.ylabel('home_score')\n",
        "plt.show()\n",
        "\n",
        "\n",
        "# Fit polynomial Regression to the dataset\n",
        "poly_reg = PolynomialFeatures(degree = 3) \n",
        "X_poly = poly_reg.fit_transform(X)\n",
        "\n",
        "\n",
        "pol_reg = LinearRegression()\n",
        "pol_reg.fit(X_poly, y)\n",
        "\n",
        "#Visualize the Polynomial Regression results\n",
        "\n",
        "plt.scatter(X, y, color='blue') \n",
        "plt.plot(X, pol_reg.predict(X_poly), color='red')\n",
        "plt.title('Homescores per away team (Polynomial Regression)')\n",
        "plt.xlabel('away_team')\n",
        "plt.ylabel('home_score')\n",
        "plt.show()"
      ],
      "execution_count": 232,
      "outputs": [
        {
          "output_type": "display_data",
          "data": {
            "image/png": "[encoded data removed]",
            "text/plain": [
              "<Figure size 432x288 with 1 Axes>"
            ]
          },
          "metadata": {
            "tags": [],
            "needs_background": "light"
          }
        },
        {
          "output_type": "display_data",
          "data": {
            "image/png": "[encoded data removed]",
            "text/plain": [
              "<Figure size 432x288 with 1 Axes>"
            ]
          },
          "metadata": {
            "tags": [],
            "needs_background": "light"
          }
        },
        {
          "output_type": "display_data",
          "data": {
            "image/png": "[encoded data removed]",
            "text/plain": [
              "<Figure size 432x288 with 1 Axes>"
            ]
          },
          "metadata": {
            "tags": [],
            "needs_background": "light"
          }
        }
      ]
    },
    {
      "cell_type": "code",
      "metadata": {
        "id": "knZimlh7wcaa",
        "colab_type": "code",
        "colab": {
          "base_uri": "https://localhost:8080/",
          "height": 51
        },
        "outputId": "5141db89-4851-463c-e1da-332f8ed1cc51"
      },
      "source": [
        "# Do predictions\n",
        "\n",
        "# Predict using linear regression\n",
        "lin_pred = reg_line.predict([[234]])\n",
        "print('Linear prediction: %d' %lin_pred)\n",
        "\n",
        "# Predict using Polynomial Regression\n",
        "poly_pred = pol_reg.predict(poly_reg.fit_transform([[234]]))\n",
        "print('Polynomial prediction: %d' %poly_pred)\n"
      ],
      "execution_count": 236,
      "outputs": [
        {
          "output_type": "stream",
          "text": [
            "Linear prediction: 1\n",
            "Polynomial prediction: 0\n"
          ],
          "name": "stdout"
        }
      ]
    },
    {
      "cell_type": "markdown",
      "metadata": {
        "id": "Za3YhsBkjCeR",
        "colab_type": "text"
      },
      "source": [
        "## Residual plots, assess heteroscedasticity"
      ]
    },
    {
      "cell_type": "code",
      "metadata": {
        "id": "0aXb0H8qjBRI",
        "colab_type": "code",
        "colab": {
          "base_uri": "https://localhost:8080/",
          "height": 34
        },
        "outputId": "d20473aa-e415-44ec-af31-bee10fe619e0"
      },
      "source": [
        "# Get the residuals\n",
        "\n",
        "X = game_clean[['tournament', 'home_team', 'away_team']].values\n",
        "y = game_clean['home_score'].values\n",
        "\n",
        "X_train, X_test, y_train, y_test = train_test_split(X, y, test_size=0.2, random_state=0)\n",
        "\n",
        "regressor = LinearRegression()\n",
        "regressor.fit(X_train, y_train)\n",
        "\n",
        "# This is our prediction for admission based on our model\n",
        "y_predict = regressor.predict(X_test)\n",
        "\n",
        "# We now create the residual by substracting the test value from the predicted \n",
        "# value for each row in our dataset\n",
        "\n",
        "residuals = np.subtract(y_predict, y_test)\n",
        "\n",
        "# Let's describe our residual:\n",
        "pd.DataFrame(residuals).describe()\n",
        "\n",
        "residuals.mean()"
      ],
      "execution_count": 220,
      "outputs": [
        {
          "output_type": "execute_result",
          "data": {
            "text/plain": [
              "0.00047353328472523714"
            ]
          },
          "metadata": {
            "tags": []
          },
          "execution_count": 220
        }
      ]
    },
    {
      "cell_type": "code",
      "metadata": {
        "id": "nDrcFc1PkDFT",
        "colab_type": "code",
        "colab": {
          "base_uri": "https://localhost:8080/",
          "height": 279
        },
        "outputId": "1a2b0577-96db-42f7-e0a8-297c2e3582dc"
      },
      "source": [
        "# Do a residual plot\n",
        "\n",
        "import matplotlib.pyplot as plt\n",
        "\n",
        "plt.scatter(y_predict, residuals, color='black')\n",
        "plt.ylabel('residual')\n",
        "plt.xlabel('fitted values')\n",
        "plt.axhline(y= residuals.mean(), color='red', linewidth=1)\n",
        "plt.show()"
      ],
      "execution_count": 221,
      "outputs": [
        {
          "output_type": "display_data",
          "data": {
            "image/png": "[encoded data removed]",
            "text/plain": [
              "<Figure size 432x288 with 1 Axes>"
            ]
          },
          "metadata": {
            "tags": [],
            "needs_background": "light"
          }
        }
      ]
    },
    {
      "cell_type": "code",
      "metadata": {
        "id": "m45MiQdXkKsp",
        "colab_type": "code",
        "colab": {
          "base_uri": "https://localhost:8080/",
          "height": 51
        },
        "outputId": "058ea766-d879-49a3-b105-8776dd2705fd"
      },
      "source": [
        "# Perform the bartlett's test\n",
        "\n",
        "import scipy as sp\n",
        "from scipy.stats import stats\n",
        "\n",
        "test_result, p_value = sp.stats.bartlett(y_predict, residuals)\n",
        "\n",
        "# To interpret the results we must also compute a critical value of the chi squared distribution\n",
        "degree_of_freedom = len(y_predict)-1\n",
        "probability = 1 - p_value\n",
        "\n",
        "critical_value = sp.stats.chi2.ppf(probability, degree_of_freedom)\n",
        "print(critical_value)\n",
        "\n",
        "# If the test_result is greater than the critical value, then we reject our null\n",
        "# hypothesis. This would mean that there are patterns to the variance of the data\n",
        "\n",
        "# Otherwise, we can identify no patterns, and we accept the null hypothesis that \n",
        "# the variance is homogeneous across our data\n",
        "\n",
        "if (test_result > critical_value):\n",
        "  print('the variances are unequal, and the model should be reassessed')\n",
        "else:\n",
        "  print('the variances are homogeneous!')\n"
      ],
      "execution_count": 222,
      "outputs": [
        {
          "output_type": "stream",
          "text": [
            "inf\n",
            "the variances are homogeneous!\n"
          ],
          "name": "stdout"
        }
      ]
    },
    {
      "cell_type": "markdown",
      "metadata": {
        "id": "wwYw3Vhvs3u9",
        "colab_type": "text"
      },
      "source": [
        "**Conclusion**\n",
        "\n",
        "1. For X variables tournament and home team, the scatter I plots I created to visualize the data were really unusual. They formed patterns whereby most points couldn't be covered by a line of fit.\n",
        "\n",
        "For the X variable away team, the scatter plot originated from 0 which seems normal.\n",
        "\n",
        "2. For the two X variables, tournament and home team, the line of fit did not cover most points. I thus stopped adding degrees when I stopped seeing a noticeable change in the number of points covered.\n",
        "\n",
        "For the X variable away team, the model is pretty good as it passes just about the right amount of points and also the distance from the curve to the points that it does not pass through (1 point) is at a minimum. Hence, this model can be used to make predictions.\n",
        "\n",
        "3. Regarding predictions, for the two X variables, tournament and home team, the predictions made were very accurate. \n",
        "\n",
        "When X is away_team, comparison between linear prediction and polynomial prediction did not show a big difference.\n",
        "\n",
        "The reason for this could be that the scores for the home team do not have a big variance so predictions will be numbers close to each other.\n",
        "\n",
        "4. I got the mean of residuals as 0.0004. Since it's a value close to zero, it indicates that it is fairly correct. \n",
        "\n",
        "The residual plot was not all centered about the mean that is very close to 0. The residuals should be scattered randomly, but from the plot they look like they follow a certain pattern. Thus I would say this model does not pass the unpredictable residuals test.\n",
        "\n",
        "5. As for homoscedasticity, the variances were homogenous so the model passed the homoscedasticity test.\n",
        "\n"
      ]
    },
    {
      "cell_type": "markdown",
      "metadata": {
        "id": "r6HiHQjO1eZK",
        "colab_type": "text"
      },
      "source": [
        "## Model 2"
      ]
    },
    {
      "cell_type": "code",
      "metadata": {
        "id": "-LrDUCwf2k3H",
        "colab_type": "code",
        "colab": {
          "base_uri": "https://localhost:8080/",
          "height": 851
        },
        "outputId": "ff3517dc-274a-40f5-d4af-5bbadd3369b5"
      },
      "source": [
        "# Predict how many goals the away team scores given rank of home team, rank of away team and tournament type\n",
        "\n",
        "# Define the X and y variables\n",
        "# My X variables are:\n",
        "# X = game_clean[['tournament', 'home_team', 'away_team']].values\n",
        "\n",
        "# For this regression I'll use them one at a time.\n",
        "\n",
        "# Polynomial regression when X is tournament variable\n",
        "\n",
        "X = game_clean.head(10000)[['tournament']].values\n",
        "y = game_clean.head(10000)['away_score'].values\n",
        "\n",
        "# Visualize X and y on a scatter plot\n",
        "\n",
        "plt.scatter(X,y, color='blue') \n",
        "plt.title('Awayscores per tournament')\n",
        "plt.xlabel('tournament')\n",
        "plt.ylabel('away_score')\n",
        "plt.show()\n",
        "\n",
        "# Split the dataset into train and test sets\n",
        "X_train, y_train, X_test, y_test = train_test_split(X,y, test_size = 0.2, random_state=0)\n",
        "\n",
        "\n",
        "# Fit Linear Regression model to the dataset\n",
        "\n",
        "reg_line = LinearRegression()\n",
        "reg_line.fit(X,y)\n",
        "\n",
        "# Visualize the Linear Regression results\n",
        "\n",
        "plt.scatter(X, y, color='blue') \n",
        "plt.plot(X, reg_line.predict(X), color='red')\n",
        "plt.title('Awayscores per tournament (Linear Regression)')\n",
        "plt.xlabel('tournament')\n",
        "plt.ylabel('away_score')\n",
        "plt.show()\n",
        "\n",
        "\n",
        "# Fit polynomial Regression to the dataset\n",
        "poly_reg = PolynomialFeatures(degree = 38) \n",
        "X_poly = poly_reg.fit_transform(X)\n",
        "\n",
        "\n",
        "pol_reg = LinearRegression()\n",
        "pol_reg.fit(X_poly, y)\n",
        "\n",
        "#Visualize the Polynomial Regression results\n",
        "\n",
        "plt.scatter(X, y, color='blue') \n",
        "plt.plot(X, pol_reg.predict(X_poly), color='red')\n",
        "plt.title('Awayscores per tournament (Polynomial Regression)')\n",
        "plt.xlabel('tournament')\n",
        "plt.ylabel('away_score')\n",
        "plt.show()"
      ],
      "execution_count": 250,
      "outputs": [
        {
          "output_type": "display_data",
          "data": {
            "image/png": "[encoded data removed]",
            "text/plain": [
              "<Figure size 432x288 with 1 Axes>"
            ]
          },
          "metadata": {
            "tags": [],
            "needs_background": "light"
          }
        },
        {
          "output_type": "display_data",
          "data": {
            "image/png": "[encoded data removed]",
            "text/plain": [
              "<Figure size 432x288 with 1 Axes>"
            ]
          },
          "metadata": {
            "tags": [],
            "needs_background": "light"
          }
        },
        {
          "output_type": "display_data",
          "data": {
            "image/png": "[encoded data removed]",
            "text/plain": [
              "<Figure size 432x288 with 1 Axes>"
            ]
          },
          "metadata": {
            "tags": [],
            "needs_background": "light"
          }
        }
      ]
    },
    {
      "cell_type": "code",
      "metadata": {
        "id": "fc-bpL7e9YYa",
        "colab_type": "code",
        "colab": {
          "base_uri": "https://localhost:8080/",
          "height": 51
        },
        "outputId": "026b4ea8-2a47-46f0-de5a-5450b906a98c"
      },
      "source": [
        "# Do predictions\n",
        "\n",
        "# Predict using linear regression\n",
        "lin_pred = reg_line.predict([[52]])\n",
        "print('Linear prediction: %d' %lin_pred)\n",
        "\n",
        "# Predict using Polynomial Regression\n",
        "poly_pred = pol_reg.predict(poly_reg.fit_transform([[52]]))\n",
        "print('Polynomial prediction: %d' %poly_pred)"
      ],
      "execution_count": 263,
      "outputs": [
        {
          "output_type": "stream",
          "text": [
            "Linear prediction: 1\n",
            "Polynomial prediction: 1\n"
          ],
          "name": "stdout"
        }
      ]
    },
    {
      "cell_type": "code",
      "metadata": {
        "id": "e1JyWQPa-CtP",
        "colab_type": "code",
        "colab": {
          "base_uri": "https://localhost:8080/",
          "height": 854
        },
        "outputId": "105c7ba0-4b0a-436b-9720-7ff465bc5bc6"
      },
      "source": [
        "# Polynomial regression when X is home_team variable\n",
        "\n",
        "X = game_clean.head(1000)[['home_team']].values\n",
        "y = game_clean.head(1000)['away_score'].values\n",
        "\n",
        "# Visualize X and y on a scatter plot\n",
        "\n",
        "plt.scatter(X,y, color='blue') \n",
        "plt.title('Awayscores per home team')\n",
        "plt.xlabel('home_team')\n",
        "plt.ylabel('away_score')\n",
        "plt.show()\n",
        "\n",
        "# Split the dataset into train and test sets\n",
        "X_train, y_train, X_test, y_test = train_test_split(X,y, test_size = 0.2, random_state=0)\n",
        "\n",
        "\n",
        "# Fit Linear Regression model to the dataset\n",
        "\n",
        "reg_line = LinearRegression()\n",
        "reg_line.fit(X,y)\n",
        "\n",
        "# Visualize the Linear Regression results\n",
        "\n",
        "plt.scatter(X, y, color='blue') \n",
        "plt.plot(X, reg_line.predict(X), color='red')\n",
        "plt.title('Awayscores per home team (Linear Regression)')\n",
        "plt.xlabel('home_team')\n",
        "plt.ylabel('away_score')\n",
        "plt.show()\n",
        "\n",
        "\n",
        "# Fit polynomial Regression to the dataset\n",
        "poly_reg = PolynomialFeatures(degree = 2) \n",
        "X_poly = poly_reg.fit_transform(X)\n",
        "\n",
        "\n",
        "pol_reg = LinearRegression()\n",
        "pol_reg.fit(X_poly, y)\n",
        "\n",
        "#Visualize the Polynomial Regression results\n",
        "\n",
        "plt.scatter(X, y, color='blue') \n",
        "plt.plot(X, pol_reg.predict(X_poly), color='red')\n",
        "plt.title('Awayscores per home team (Polynomial Regression)')\n",
        "plt.xlabel('home_team')\n",
        "plt.ylabel('away_score')\n",
        "plt.show()"
      ],
      "execution_count": 269,
      "outputs": [
        {
          "output_type": "display_data",
          "data": {
            "image/png": "[encoded data removed]",
            "text/plain": [
              "<Figure size 432x288 with 1 Axes>"
            ]
          },
          "metadata": {
            "tags": [],
            "needs_background": "light"
          }
        },
        {
          "output_type": "display_data",
          "data": {
            "image/png": "[encoded data removed]",
            "text/plain": [
              "<Figure size 432x288 with 1 Axes>"
            ]
          },
          "metadata": {
            "tags": [],
            "needs_background": "light"
          }
        },
        {
          "output_type": "display_data",
          "data": {
            "image/png": "[encoded data removed]",
            "text/plain": [
              "<Figure size 432x288 with 1 Axes>"
            ]
          },
          "metadata": {
            "tags": [],
            "needs_background": "light"
          }
        }
      ]
    },
    {
      "cell_type": "code",
      "metadata": {
        "id": "dkcYKvKd-ssF",
        "colab_type": "code",
        "colab": {
          "base_uri": "https://localhost:8080/",
          "height": 51
        },
        "outputId": "34b713c8-6f4a-444e-d97e-d150d9f1883e"
      },
      "source": [
        "# Do predictions\n",
        "\n",
        "# Predict using linear regression\n",
        "lin_pred = reg_line.predict([[93]])\n",
        "print('Linear prediction: %d' %lin_pred)\n",
        "\n",
        "# Predict using Polynomial Regression\n",
        "poly_pred = pol_reg.predict(poly_reg.fit_transform([[93]]))\n",
        "print('Polynomial prediction: %d' %poly_pred)"
      ],
      "execution_count": 271,
      "outputs": [
        {
          "output_type": "stream",
          "text": [
            "Linear prediction: 1\n",
            "Polynomial prediction: 1\n"
          ],
          "name": "stdout"
        }
      ]
    },
    {
      "cell_type": "code",
      "metadata": {
        "id": "87sDA47R-4Ms",
        "colab_type": "code",
        "colab": {
          "base_uri": "https://localhost:8080/",
          "height": 854
        },
        "outputId": "2855c518-89f2-494e-c81d-4bc04ef3aee6"
      },
      "source": [
        "# Polynomial regression when X is away_team variable\n",
        "\n",
        "X = game_clean.head(20)[['away_team']].values\n",
        "y = game_clean.head(20)['away_score'].values\n",
        "\n",
        "# Visualize X and y on a scatter plot\n",
        "\n",
        "plt.scatter(X,y, color='blue') \n",
        "plt.title('Awayscores per home team')\n",
        "plt.xlabel('away_team')\n",
        "plt.ylabel('away_score')\n",
        "plt.show()\n",
        "\n",
        "# Split the dataset into train and test sets\n",
        "X_train, y_train, X_test, y_test = train_test_split(X,y, test_size = 0.2, random_state=0)\n",
        "\n",
        "\n",
        "# Fit Linear Regression model to the dataset\n",
        "\n",
        "reg_line = LinearRegression()\n",
        "reg_line.fit(X,y)\n",
        "\n",
        "# Visualize the Linear Regression results\n",
        "\n",
        "plt.scatter(X, y, color='blue') \n",
        "plt.plot(X, reg_line.predict(X), color='red')\n",
        "plt.title('Awayscores per home team (Linear Regression)')\n",
        "plt.xlabel('away_team')\n",
        "plt.ylabel('away_score')\n",
        "plt.show()\n",
        "\n",
        "\n",
        "# Fit polynomial Regression to the dataset\n",
        "poly_reg = PolynomialFeatures(degree = 4) \n",
        "X_poly = poly_reg.fit_transform(X)\n",
        "\n",
        "\n",
        "pol_reg = LinearRegression()\n",
        "pol_reg.fit(X_poly, y)\n",
        "\n",
        "#Visualize the Polynomial Regression results\n",
        "\n",
        "plt.scatter(X, y, color='blue') \n",
        "plt.plot(X, pol_reg.predict(X_poly), color='red')\n",
        "plt.title('Awayscores per home team (Polynomial Regression)')\n",
        "plt.xlabel('away_team')\n",
        "plt.ylabel('away_score')\n",
        "plt.show()"
      ],
      "execution_count": 275,
      "outputs": [
        {
          "output_type": "display_data",
          "data": {
            "image/png": "[encoded data removed]",
            "text/plain": [
              "<Figure size 432x288 with 1 Axes>"
            ]
          },
          "metadata": {
            "tags": [],
            "needs_background": "light"
          }
        },
        {
          "output_type": "display_data",
          "data": {
            "image/png": "[encoded data removed]",
            "text/plain": [
              "<Figure size 432x288 with 1 Axes>"
            ]
          },
          "metadata": {
            "tags": [],
            "needs_background": "light"
          }
        },
        {
          "output_type": "display_data",
          "data": {
            "image/png": "[encoded data removed]",
            "text/plain": [
              "<Figure size 432x288 with 1 Axes>"
            ]
          },
          "metadata": {
            "tags": [],
            "needs_background": "light"
          }
        }
      ]
    },
    {
      "cell_type": "code",
      "metadata": {
        "id": "lzbk8GYz_vY7",
        "colab_type": "code",
        "colab": {
          "base_uri": "https://localhost:8080/",
          "height": 51
        },
        "outputId": "7a339279-5d4a-4907-bcc0-221b3e0351d9"
      },
      "source": [
        "# Do predictions\n",
        "\n",
        "# Predict using linear regression\n",
        "lin_pred = reg_line.predict([[234]])\n",
        "print('Linear prediction: %d' %lin_pred)\n",
        "\n",
        "# Predict using Polynomial Regression\n",
        "poly_pred = pol_reg.predict(poly_reg.fit_transform([[234]]))\n",
        "print('Polynomial prediction: %d' %poly_pred)"
      ],
      "execution_count": 276,
      "outputs": [
        {
          "output_type": "stream",
          "text": [
            "Linear prediction: 1\n",
            "Polynomial prediction: 2\n"
          ],
          "name": "stdout"
        }
      ]
    },
    {
      "cell_type": "markdown",
      "metadata": {
        "id": "SdE358qM1jhK",
        "colab_type": "text"
      },
      "source": [
        "## Residual plots, assess heteroscedasticity"
      ]
    },
    {
      "cell_type": "code",
      "metadata": {
        "id": "lbXAvyqcADej",
        "colab_type": "code",
        "colab": {
          "base_uri": "https://localhost:8080/",
          "height": 34
        },
        "outputId": "9bc8125a-c1ea-4b7c-dcbc-9435a3c29739"
      },
      "source": [
        "# Get the residuals\n",
        "\n",
        "X = game_clean[['tournament', 'home_team', 'away_team']].values\n",
        "y = game_clean['away_score'].values\n",
        "\n",
        "X_train, X_test, y_train, y_test = train_test_split(X, y, test_size=0.2, random_state=0)\n",
        "\n",
        "regressor = LinearRegression()\n",
        "regressor.fit(X_train, y_train)\n",
        "\n",
        "# This is our prediction for admission based on our model\n",
        "y_predict = regressor.predict(X_test)\n",
        "\n",
        "# We now create the residual by substracting the test value from the predicted \n",
        "# value for each row in our dataset\n",
        "\n",
        "residuals = np.subtract(y_predict, y_test)\n",
        "\n",
        "# Let's describe our residual:\n",
        "pd.DataFrame(residuals).describe()\n",
        "\n",
        "residuals.mean()"
      ],
      "execution_count": 277,
      "outputs": [
        {
          "output_type": "execute_result",
          "data": {
            "text/plain": [
              "0.00032440237124491074"
            ]
          },
          "metadata": {
            "tags": []
          },
          "execution_count": 277
        }
      ]
    },
    {
      "cell_type": "code",
      "metadata": {
        "id": "V8F-OPJQAbe1",
        "colab_type": "code",
        "colab": {
          "base_uri": "https://localhost:8080/",
          "height": 279
        },
        "outputId": "37c2fb6b-f932-4b5e-a450-acb7d93960f3"
      },
      "source": [
        "# Do a residual plot\n",
        "\n",
        "import matplotlib.pyplot as plt\n",
        "\n",
        "plt.scatter(y_predict, residuals, color='black')\n",
        "plt.ylabel('residual')\n",
        "plt.xlabel('fitted values')\n",
        "plt.axhline(y= residuals.mean(), color='red', linewidth=1)\n",
        "plt.show()"
      ],
      "execution_count": 278,
      "outputs": [
        {
          "output_type": "display_data",
          "data": {
            "image/png": "[encoded data removed]",
            "text/plain": [
              "<Figure size 432x288 with 1 Axes>"
            ]
          },
          "metadata": {
            "tags": [],
            "needs_background": "light"
          }
        }
      ]
    },
    {
      "cell_type": "code",
      "metadata": {
        "id": "NBnbF2XOAePi",
        "colab_type": "code",
        "colab": {
          "base_uri": "https://localhost:8080/",
          "height": 51
        },
        "outputId": "c1ea756c-de00-4fd7-ea74-87e2d9e7b2ee"
      },
      "source": [
        "# Perform the bartlett's test\n",
        "\n",
        "import scipy as sp\n",
        "from scipy.stats import stats\n",
        "\n",
        "test_result, p_value = sp.stats.bartlett(y_predict, residuals)\n",
        "\n",
        "# To interpret the results we must also compute a critical value of the chi squared distribution\n",
        "degree_of_freedom = len(y_predict)-1\n",
        "probability = 1 - p_value\n",
        "\n",
        "critical_value = sp.stats.chi2.ppf(probability, degree_of_freedom)\n",
        "print(critical_value)\n",
        "\n",
        "# If the test_result is greater than the critical value, then we reject our null\n",
        "# hypothesis. This would mean that there are patterns to the variance of the data\n",
        "\n",
        "# Otherwise, we can identify no patterns, and we accept the null hypothesis that \n",
        "# the variance is homogeneous across our data\n",
        "\n",
        "if (test_result > critical_value):\n",
        "  print('the variances are unequal, and the model should be reassessed')\n",
        "else:\n",
        "  print('the variances are homogeneous!')"
      ],
      "execution_count": 279,
      "outputs": [
        {
          "output_type": "stream",
          "text": [
            "inf\n",
            "the variances are homogeneous!\n"
          ],
          "name": "stdout"
        }
      ]
    },
    {
      "cell_type": "markdown",
      "metadata": {
        "id": "Ls4zJEmvA1XX",
        "colab_type": "text"
      },
      "source": [
        "**Conclusion**\n",
        "\n",
        "1. For X variables tournament and home team, the scatter I plots I created to visualize the data were really unusual. They formed patterns whereby most points couldn't be covered by a line of fit.\n",
        "\n",
        "For the X variable away team, the scatter plot seems normal.\n",
        "\n",
        "2. For the two X variables, tournament and home team, the line of fit did not cover most points. I thus stopped adding degrees when I stopped seeing a noticeable change in the number of points covered.\n",
        "\n",
        "For the X variable away team, the model is pretty good as it passes just about the right amount of points and also the distance from the curve to the points that it does not pass through (1 point) is at a minimum. Hence, this model can be used to make predictions.\n",
        "\n",
        "3. Regarding predictions, for the two X variables, tournament and home team, the predictions made were very accurate. \n",
        "\n",
        "When X is away_team, comparison between linear prediction and polynomial prediction did not show a big difference.\n",
        "\n",
        "The reason for this could be that the scores for the home team do not have a big variance so predictions will be numbers close to each other.\n",
        "\n",
        "4. I got the mean of residuals as 0.0003. Since it's a value close to zero, it indicates that it is fairly correct. \n",
        "\n",
        "The residual plot was not all centered about the mean that is very close to 0. Most points were away from 0. The residuals should be scattered randomly, but from the plot they look like they follow a certain pattern. Thus I would say this model does not pass the unpredictable residuals test.\n",
        "\n",
        "5. As for homoscedasticity, the variances were homogenous so the model passed the homoscedasticity test."
      ]
    },
    {
      "cell_type": "markdown",
      "metadata": {
        "id": "8E-orfI9N-aY",
        "colab_type": "text"
      },
      "source": [
        "# 8. Logistic Regression Model"
      ]
    },
    {
      "cell_type": "code",
      "metadata": {
        "id": "hBu62FD09suQ",
        "colab_type": "code",
        "colab": {
          "base_uri": "https://localhost:8080/",
          "height": 456
        },
        "outputId": "a1045348-9834-45f1-9e9a-8efb2e05e5c1"
      },
      "source": [
        "# Predict from the home team's perspective if the game is a win, loss or draw.\n",
        "\n",
        "# Create a column for Status that will show 2 for a win, 0 for a loss and 1 for a draw.\n",
        "\n",
        "game_clean.loc[game_clean['home_score'] > game_clean['away_score'] , 'Status'] = '2'  \n",
        "game_clean.loc[game_clean['home_score'] < game_clean['away_score'] , 'Status'] = '0'\n",
        "game_clean.loc[game_clean['home_score'] == game_clean['away_score'] , 'Status'] = '1'\n",
        "game_clean"
      ],
      "execution_count": 83,
      "outputs": [
        {
          "output_type": "execute_result",
          "data": {
            "text/html": [
              "<div>\n",
              "<style scoped>\n",
              "    .dataframe tbody tr th:only-of-type {\n",
              "        vertical-align: middle;\n",
              "    }\n",
              "\n",
              "    .dataframe tbody tr th {\n",
              "        vertical-align: top;\n",
              "    }\n",
              "\n",
              "    .dataframe thead th {\n",
              "        text-align: right;\n",
              "    }\n",
              "</style>\n",
              "<table border=\"1\" class=\"dataframe\">\n",
              "  <thead>\n",
              "    <tr style=\"text-align: right;\">\n",
              "      <th></th>\n",
              "      <th>Unnamed: 0</th>\n",
              "      <th>rank</th>\n",
              "      <th>country</th>\n",
              "      <th>total_points</th>\n",
              "      <th>previous_points</th>\n",
              "      <th>rank_change</th>\n",
              "      <th>cur_year_avg</th>\n",
              "      <th>cur_year_avg_weighted</th>\n",
              "      <th>last_year_avg</th>\n",
              "      <th>last_year_avg_weighted</th>\n",
              "      <th>two_year_ago_avg</th>\n",
              "      <th>two_year_ago_weighted</th>\n",
              "      <th>three_year_ago_avg</th>\n",
              "      <th>three_year_ago_weighted</th>\n",
              "      <th>confederation</th>\n",
              "      <th>home_team</th>\n",
              "      <th>away_team</th>\n",
              "      <th>home_score</th>\n",
              "      <th>away_score</th>\n",
              "      <th>tournament</th>\n",
              "      <th>city</th>\n",
              "      <th>neutral</th>\n",
              "      <th>Status</th>\n",
              "    </tr>\n",
              "  </thead>\n",
              "  <tbody>\n",
              "    <tr>\n",
              "      <th>0</th>\n",
              "      <td>0</td>\n",
              "      <td>1</td>\n",
              "      <td>69</td>\n",
              "      <td>0.00</td>\n",
              "      <td>57</td>\n",
              "      <td>0</td>\n",
              "      <td>0.00</td>\n",
              "      <td>0.00</td>\n",
              "      <td>0.0</td>\n",
              "      <td>0.0</td>\n",
              "      <td>0.0</td>\n",
              "      <td>0.0</td>\n",
              "      <td>0.0</td>\n",
              "      <td>0.0</td>\n",
              "      <td>5</td>\n",
              "      <td>81</td>\n",
              "      <td>234</td>\n",
              "      <td>1</td>\n",
              "      <td>0</td>\n",
              "      <td>50</td>\n",
              "      <td>559</td>\n",
              "      <td>0</td>\n",
              "      <td>2</td>\n",
              "    </tr>\n",
              "    <tr>\n",
              "      <th>1</th>\n",
              "      <td>1</td>\n",
              "      <td>1</td>\n",
              "      <td>69</td>\n",
              "      <td>0.00</td>\n",
              "      <td>57</td>\n",
              "      <td>0</td>\n",
              "      <td>0.00</td>\n",
              "      <td>0.00</td>\n",
              "      <td>0.0</td>\n",
              "      <td>0.0</td>\n",
              "      <td>0.0</td>\n",
              "      <td>0.0</td>\n",
              "      <td>0.0</td>\n",
              "      <td>0.0</td>\n",
              "      <td>5</td>\n",
              "      <td>81</td>\n",
              "      <td>25</td>\n",
              "      <td>0</td>\n",
              "      <td>3</td>\n",
              "      <td>50</td>\n",
              "      <td>352</td>\n",
              "      <td>0</td>\n",
              "      <td>0</td>\n",
              "    </tr>\n",
              "    <tr>\n",
              "      <th>2</th>\n",
              "      <td>2</td>\n",
              "      <td>1</td>\n",
              "      <td>69</td>\n",
              "      <td>0.00</td>\n",
              "      <td>57</td>\n",
              "      <td>0</td>\n",
              "      <td>0.00</td>\n",
              "      <td>0.00</td>\n",
              "      <td>0.0</td>\n",
              "      <td>0.0</td>\n",
              "      <td>0.0</td>\n",
              "      <td>0.0</td>\n",
              "      <td>0.0</td>\n",
              "      <td>0.0</td>\n",
              "      <td>5</td>\n",
              "      <td>81</td>\n",
              "      <td>167</td>\n",
              "      <td>1</td>\n",
              "      <td>2</td>\n",
              "      <td>50</td>\n",
              "      <td>588</td>\n",
              "      <td>0</td>\n",
              "      <td>0</td>\n",
              "    </tr>\n",
              "    <tr>\n",
              "      <th>3</th>\n",
              "      <td>4</td>\n",
              "      <td>1</td>\n",
              "      <td>69</td>\n",
              "      <td>0.00</td>\n",
              "      <td>57</td>\n",
              "      <td>0</td>\n",
              "      <td>0.00</td>\n",
              "      <td>0.00</td>\n",
              "      <td>0.0</td>\n",
              "      <td>0.0</td>\n",
              "      <td>0.0</td>\n",
              "      <td>0.0</td>\n",
              "      <td>0.0</td>\n",
              "      <td>0.0</td>\n",
              "      <td>5</td>\n",
              "      <td>81</td>\n",
              "      <td>17</td>\n",
              "      <td>1</td>\n",
              "      <td>2</td>\n",
              "      <td>50</td>\n",
              "      <td>346</td>\n",
              "      <td>0</td>\n",
              "      <td>0</td>\n",
              "    </tr>\n",
              "    <tr>\n",
              "      <th>4</th>\n",
              "      <td>5</td>\n",
              "      <td>1</td>\n",
              "      <td>69</td>\n",
              "      <td>0.00</td>\n",
              "      <td>57</td>\n",
              "      <td>0</td>\n",
              "      <td>0.00</td>\n",
              "      <td>0.00</td>\n",
              "      <td>0.0</td>\n",
              "      <td>0.0</td>\n",
              "      <td>0.0</td>\n",
              "      <td>0.0</td>\n",
              "      <td>0.0</td>\n",
              "      <td>0.0</td>\n",
              "      <td>5</td>\n",
              "      <td>81</td>\n",
              "      <td>233</td>\n",
              "      <td>1</td>\n",
              "      <td>3</td>\n",
              "      <td>50</td>\n",
              "      <td>461</td>\n",
              "      <td>0</td>\n",
              "      <td>0</td>\n",
              "    </tr>\n",
              "    <tr>\n",
              "      <th>...</th>\n",
              "      <td>...</td>\n",
              "      <td>...</td>\n",
              "      <td>...</td>\n",
              "      <td>...</td>\n",
              "      <td>...</td>\n",
              "      <td>...</td>\n",
              "      <td>...</td>\n",
              "      <td>...</td>\n",
              "      <td>...</td>\n",
              "      <td>...</td>\n",
              "      <td>...</td>\n",
              "      <td>...</td>\n",
              "      <td>...</td>\n",
              "      <td>...</td>\n",
              "      <td>...</td>\n",
              "      <td>...</td>\n",
              "      <td>...</td>\n",
              "      <td>...</td>\n",
              "      <td>...</td>\n",
              "      <td>...</td>\n",
              "      <td>...</td>\n",
              "      <td>...</td>\n",
              "      <td>...</td>\n",
              "    </tr>\n",
              "    <tr>\n",
              "      <th>4128099</th>\n",
              "      <td>10246504</td>\n",
              "      <td>195</td>\n",
              "      <td>71</td>\n",
              "      <td>34.16</td>\n",
              "      <td>34</td>\n",
              "      <td>1</td>\n",
              "      <td>34.16</td>\n",
              "      <td>34.16</td>\n",
              "      <td>0.0</td>\n",
              "      <td>0.0</td>\n",
              "      <td>0.0</td>\n",
              "      <td>0.0</td>\n",
              "      <td>0.0</td>\n",
              "      <td>0.0</td>\n",
              "      <td>5</td>\n",
              "      <td>83</td>\n",
              "      <td>135</td>\n",
              "      <td>1</td>\n",
              "      <td>0</td>\n",
              "      <td>50</td>\n",
              "      <td>420</td>\n",
              "      <td>0</td>\n",
              "      <td>2</td>\n",
              "    </tr>\n",
              "    <tr>\n",
              "      <th>4128100</th>\n",
              "      <td>10246505</td>\n",
              "      <td>195</td>\n",
              "      <td>71</td>\n",
              "      <td>34.16</td>\n",
              "      <td>34</td>\n",
              "      <td>1</td>\n",
              "      <td>34.16</td>\n",
              "      <td>34.16</td>\n",
              "      <td>0.0</td>\n",
              "      <td>0.0</td>\n",
              "      <td>0.0</td>\n",
              "      <td>0.0</td>\n",
              "      <td>0.0</td>\n",
              "      <td>0.0</td>\n",
              "      <td>5</td>\n",
              "      <td>83</td>\n",
              "      <td>174</td>\n",
              "      <td>0</td>\n",
              "      <td>2</td>\n",
              "      <td>91</td>\n",
              "      <td>420</td>\n",
              "      <td>0</td>\n",
              "      <td>0</td>\n",
              "    </tr>\n",
              "    <tr>\n",
              "      <th>4128101</th>\n",
              "      <td>10246506</td>\n",
              "      <td>195</td>\n",
              "      <td>71</td>\n",
              "      <td>34.16</td>\n",
              "      <td>34</td>\n",
              "      <td>1</td>\n",
              "      <td>34.16</td>\n",
              "      <td>34.16</td>\n",
              "      <td>0.0</td>\n",
              "      <td>0.0</td>\n",
              "      <td>0.0</td>\n",
              "      <td>0.0</td>\n",
              "      <td>0.0</td>\n",
              "      <td>0.0</td>\n",
              "      <td>5</td>\n",
              "      <td>83</td>\n",
              "      <td>140</td>\n",
              "      <td>2</td>\n",
              "      <td>1</td>\n",
              "      <td>91</td>\n",
              "      <td>420</td>\n",
              "      <td>0</td>\n",
              "      <td>2</td>\n",
              "    </tr>\n",
              "    <tr>\n",
              "      <th>4128102</th>\n",
              "      <td>10246508</td>\n",
              "      <td>195</td>\n",
              "      <td>71</td>\n",
              "      <td>34.16</td>\n",
              "      <td>34</td>\n",
              "      <td>1</td>\n",
              "      <td>34.16</td>\n",
              "      <td>34.16</td>\n",
              "      <td>0.0</td>\n",
              "      <td>0.0</td>\n",
              "      <td>0.0</td>\n",
              "      <td>0.0</td>\n",
              "      <td>0.0</td>\n",
              "      <td>0.0</td>\n",
              "      <td>5</td>\n",
              "      <td>83</td>\n",
              "      <td>198</td>\n",
              "      <td>0</td>\n",
              "      <td>1</td>\n",
              "      <td>90</td>\n",
              "      <td>420</td>\n",
              "      <td>0</td>\n",
              "      <td>0</td>\n",
              "    </tr>\n",
              "    <tr>\n",
              "      <th>4128103</th>\n",
              "      <td>10246509</td>\n",
              "      <td>195</td>\n",
              "      <td>71</td>\n",
              "      <td>34.16</td>\n",
              "      <td>34</td>\n",
              "      <td>1</td>\n",
              "      <td>34.16</td>\n",
              "      <td>34.16</td>\n",
              "      <td>0.0</td>\n",
              "      <td>0.0</td>\n",
              "      <td>0.0</td>\n",
              "      <td>0.0</td>\n",
              "      <td>0.0</td>\n",
              "      <td>0.0</td>\n",
              "      <td>5</td>\n",
              "      <td>83</td>\n",
              "      <td>82</td>\n",
              "      <td>0</td>\n",
              "      <td>1</td>\n",
              "      <td>50</td>\n",
              "      <td>420</td>\n",
              "      <td>0</td>\n",
              "      <td>0</td>\n",
              "    </tr>\n",
              "  </tbody>\n",
              "</table>\n",
              "<p>4128104 rows × 23 columns</p>\n",
              "</div>"
            ],
            "text/plain": [
              "         Unnamed: 0  rank  country  ...  city  neutral  Status\n",
              "0                 0     1       69  ...   559        0       2\n",
              "1                 1     1       69  ...   352        0       0\n",
              "2                 2     1       69  ...   588        0       0\n",
              "3                 4     1       69  ...   346        0       0\n",
              "4                 5     1       69  ...   461        0       0\n",
              "...             ...   ...      ...  ...   ...      ...     ...\n",
              "4128099    10246504   195       71  ...   420        0       2\n",
              "4128100    10246505   195       71  ...   420        0       0\n",
              "4128101    10246506   195       71  ...   420        0       2\n",
              "4128102    10246508   195       71  ...   420        0       0\n",
              "4128103    10246509   195       71  ...   420        0       0\n",
              "\n",
              "[4128104 rows x 23 columns]"
            ]
          },
          "metadata": {
            "tags": []
          },
          "execution_count": 83
        }
      ]
    },
    {
      "cell_type": "markdown",
      "metadata": {
        "id": "VL7jdbaUUDzy",
        "colab_type": "text"
      },
      "source": [
        "## Hyperparameter Tuning"
      ]
    },
    {
      "cell_type": "code",
      "metadata": {
        "id": "Ro4IBEpAUQ0k",
        "colab_type": "code",
        "colab": {}
      },
      "source": [
        "# Define the X and y variables\n",
        "\n",
        "X = game_clean[['home_team', 'away_team', 'home_score', 'away_score', 'tournament']].values\n",
        "y = game_clean['Status'].values"
      ],
      "execution_count": 0,
      "outputs": []
    },
    {
      "cell_type": "code",
      "metadata": {
        "id": "mC-UnkDTx0r4",
        "colab_type": "code",
        "colab": {}
      },
      "source": [
        "# Initiate the logistic regression model with random hyperparameters\n",
        "\n",
        "lr = LogisticRegression(penalty='l2',dual=False,max_iter=110)"
      ],
      "execution_count": 0,
      "outputs": []
    },
    {
      "cell_type": "code",
      "metadata": {
        "id": "ZLKZO9QDzOX3",
        "colab_type": "code",
        "colab": {
          "base_uri": "https://localhost:8080/",
          "height": 258
        },
        "outputId": "e67caa7e-b3f4-468d-b894-062f06e6e0c5"
      },
      "source": [
        "# Fit the X and y variables to the logistic regression model\n",
        "\n",
        "lr.fit(X,y)"
      ],
      "execution_count": 122,
      "outputs": [
        {
          "output_type": "stream",
          "text": [
            "/usr/local/lib/python3.6/dist-packages/sklearn/linear_model/_logistic.py:940: ConvergenceWarning: lbfgs failed to converge (status=1):\n",
            "STOP: TOTAL NO. of ITERATIONS REACHED LIMIT.\n",
            "\n",
            "Increase the number of iterations (max_iter) or scale the data as shown in:\n",
            "    https://scikit-learn.org/stable/modules/preprocessing.html\n",
            "Please also refer to the documentation for alternative solver options:\n",
            "    https://scikit-learn.org/stable/modules/linear_model.html#logistic-regression\n",
            "  extra_warning_msg=_LOGISTIC_SOLVER_CONVERGENCE_MSG)\n"
          ],
          "name": "stderr"
        },
        {
          "output_type": "execute_result",
          "data": {
            "text/plain": [
              "LogisticRegression(C=1.0, class_weight=None, dual=False, fit_intercept=True,\n",
              "                   intercept_scaling=1, l1_ratio=None, max_iter=110,\n",
              "                   multi_class='auto', n_jobs=None, penalty='l2',\n",
              "                   random_state=None, solver='lbfgs', tol=0.0001, verbose=0,\n",
              "                   warm_start=False)"
            ]
          },
          "metadata": {
            "tags": []
          },
          "execution_count": 122
        }
      ]
    },
    {
      "cell_type": "code",
      "metadata": {
        "id": "PrCsh6hSzgJM",
        "colab_type": "code",
        "colab": {
          "base_uri": "https://localhost:8080/",
          "height": 34
        },
        "outputId": "53231ad1-f6df-4b90-e98c-c588da32a867"
      },
      "source": [
        "lr.score(X,y)"
      ],
      "execution_count": 123,
      "outputs": [
        {
          "output_type": "execute_result",
          "data": {
            "text/plain": [
              "1.0"
            ]
          },
          "metadata": {
            "tags": []
          },
          "execution_count": 123
        }
      ]
    },
    {
      "cell_type": "markdown",
      "metadata": {
        "id": "sK19XVX52aTS",
        "colab_type": "text"
      },
      "source": [
        "The score 1.0 is very high meaning the model has been optimally tuned to solve the machine learning model"
      ]
    },
    {
      "cell_type": "markdown",
      "metadata": {
        "id": "gI9nYFKh9fn0",
        "colab_type": "text"
      },
      "source": [
        "## Multicollinearity check"
      ]
    },
    {
      "cell_type": "markdown",
      "metadata": {
        "id": "IavLMPNI9yrK",
        "colab_type": "text"
      },
      "source": [
        "The multicollinearity check done under polynomial regression showed that the VIF score for each variable was under 4. \n",
        "\n",
        "Thus no independent variables are correlated."
      ]
    },
    {
      "cell_type": "markdown",
      "metadata": {
        "id": "Gw_Ez8D-ZTx2",
        "colab_type": "text"
      },
      "source": [
        "## Model"
      ]
    },
    {
      "cell_type": "code",
      "metadata": {
        "id": "EAcSvwbXZauC",
        "colab_type": "code",
        "colab": {}
      },
      "source": [
        "# Split the dataset into train and test\n",
        "\n",
        "X_train, X_test, y_train, y_test = train_test_split(X, y, test_size = .2, random_state=0)"
      ],
      "execution_count": 0,
      "outputs": []
    },
    {
      "cell_type": "code",
      "metadata": {
        "id": "B4pEnH6PbKIg",
        "colab_type": "code",
        "colab": {
          "base_uri": "https://localhost:8080/",
          "height": 258
        },
        "outputId": "64d49838-c446-489f-c6b9-ebee236057b6"
      },
      "source": [
        "# Fit the model on the training set\n",
        "\n",
        "from sklearn.linear_model import LogisticRegression\n",
        "\n",
        "LogReg = LogisticRegression()\n",
        "LogReg.fit(X_train, y_train)"
      ],
      "execution_count": 101,
      "outputs": [
        {
          "output_type": "stream",
          "text": [
            "/usr/local/lib/python3.6/dist-packages/sklearn/linear_model/_logistic.py:940: ConvergenceWarning: lbfgs failed to converge (status=1):\n",
            "STOP: TOTAL NO. of ITERATIONS REACHED LIMIT.\n",
            "\n",
            "Increase the number of iterations (max_iter) or scale the data as shown in:\n",
            "    https://scikit-learn.org/stable/modules/preprocessing.html\n",
            "Please also refer to the documentation for alternative solver options:\n",
            "    https://scikit-learn.org/stable/modules/linear_model.html#logistic-regression\n",
            "  extra_warning_msg=_LOGISTIC_SOLVER_CONVERGENCE_MSG)\n"
          ],
          "name": "stderr"
        },
        {
          "output_type": "execute_result",
          "data": {
            "text/plain": [
              "LogisticRegression(C=1.0, class_weight=None, dual=False, fit_intercept=True,\n",
              "                   intercept_scaling=1, l1_ratio=None, max_iter=100,\n",
              "                   multi_class='auto', n_jobs=None, penalty='l2',\n",
              "                   random_state=None, solver='lbfgs', tol=0.0001, verbose=0,\n",
              "                   warm_start=False)"
            ]
          },
          "metadata": {
            "tags": []
          },
          "execution_count": 101
        }
      ]
    },
    {
      "cell_type": "code",
      "metadata": {
        "id": "lNZsMMocbo93",
        "colab_type": "code",
        "colab": {
          "base_uri": "https://localhost:8080/",
          "height": 34
        },
        "outputId": "edb7c102-60e2-4bf6-ad69-c32ecac0ad8c"
      },
      "source": [
        "# Use the model to make a prediction\n",
        "\n",
        "y_pred = LogReg.predict(X_test)\n",
        "y_pred"
      ],
      "execution_count": 112,
      "outputs": [
        {
          "output_type": "execute_result",
          "data": {
            "text/plain": [
              "array(['2', '2', '0', ..., '0', '2', '0'], dtype=object)"
            ]
          },
          "metadata": {
            "tags": []
          },
          "execution_count": 112
        }
      ]
    },
    {
      "cell_type": "code",
      "metadata": {
        "id": "VehTpOSwen9-",
        "colab_type": "code",
        "colab": {
          "base_uri": "https://localhost:8080/",
          "height": 34
        },
        "outputId": "b2661089-b709-4580-a5a4-f2a4bc455606"
      },
      "source": [
        "# Find the score of the model.\n",
        "\n",
        "LogReg.score(X_test, y_test)\n",
        "\n",
        "# The score of the model is very high, meaning the accuracy of the predicted values will be high"
      ],
      "execution_count": 113,
      "outputs": [
        {
          "output_type": "execute_result",
          "data": {
            "text/plain": [
              "1.0"
            ]
          },
          "metadata": {
            "tags": []
          },
          "execution_count": 113
        }
      ]
    },
    {
      "cell_type": "code",
      "metadata": {
        "id": "om0CT1dQeuCi",
        "colab_type": "code",
        "colab": {
          "base_uri": "https://localhost:8080/",
          "height": 419
        },
        "outputId": "a4c2283c-5b42-4dc8-bf18-bf72ca094ab0"
      },
      "source": [
        "# Show the predicted values alongside the actual values\n",
        "\n",
        "new = pd.DataFrame({'Actual': y_test, 'Predicted': y_pred})\n",
        "new"
      ],
      "execution_count": 114,
      "outputs": [
        {
          "output_type": "execute_result",
          "data": {
            "text/html": [
              "<div>\n",
              "<style scoped>\n",
              "    .dataframe tbody tr th:only-of-type {\n",
              "        vertical-align: middle;\n",
              "    }\n",
              "\n",
              "    .dataframe tbody tr th {\n",
              "        vertical-align: top;\n",
              "    }\n",
              "\n",
              "    .dataframe thead th {\n",
              "        text-align: right;\n",
              "    }\n",
              "</style>\n",
              "<table border=\"1\" class=\"dataframe\">\n",
              "  <thead>\n",
              "    <tr style=\"text-align: right;\">\n",
              "      <th></th>\n",
              "      <th>Actual</th>\n",
              "      <th>Predicted</th>\n",
              "    </tr>\n",
              "  </thead>\n",
              "  <tbody>\n",
              "    <tr>\n",
              "      <th>0</th>\n",
              "      <td>2</td>\n",
              "      <td>2</td>\n",
              "    </tr>\n",
              "    <tr>\n",
              "      <th>1</th>\n",
              "      <td>2</td>\n",
              "      <td>2</td>\n",
              "    </tr>\n",
              "    <tr>\n",
              "      <th>2</th>\n",
              "      <td>0</td>\n",
              "      <td>0</td>\n",
              "    </tr>\n",
              "    <tr>\n",
              "      <th>3</th>\n",
              "      <td>1</td>\n",
              "      <td>1</td>\n",
              "    </tr>\n",
              "    <tr>\n",
              "      <th>4</th>\n",
              "      <td>2</td>\n",
              "      <td>2</td>\n",
              "    </tr>\n",
              "    <tr>\n",
              "      <th>...</th>\n",
              "      <td>...</td>\n",
              "      <td>...</td>\n",
              "    </tr>\n",
              "    <tr>\n",
              "      <th>1238427</th>\n",
              "      <td>0</td>\n",
              "      <td>0</td>\n",
              "    </tr>\n",
              "    <tr>\n",
              "      <th>1238428</th>\n",
              "      <td>2</td>\n",
              "      <td>2</td>\n",
              "    </tr>\n",
              "    <tr>\n",
              "      <th>1238429</th>\n",
              "      <td>0</td>\n",
              "      <td>0</td>\n",
              "    </tr>\n",
              "    <tr>\n",
              "      <th>1238430</th>\n",
              "      <td>2</td>\n",
              "      <td>2</td>\n",
              "    </tr>\n",
              "    <tr>\n",
              "      <th>1238431</th>\n",
              "      <td>0</td>\n",
              "      <td>0</td>\n",
              "    </tr>\n",
              "  </tbody>\n",
              "</table>\n",
              "<p>1238432 rows × 2 columns</p>\n",
              "</div>"
            ],
            "text/plain": [
              "        Actual Predicted\n",
              "0            2         2\n",
              "1            2         2\n",
              "2            0         0\n",
              "3            1         1\n",
              "4            2         2\n",
              "...        ...       ...\n",
              "1238427      0         0\n",
              "1238428      2         2\n",
              "1238429      0         0\n",
              "1238430      2         2\n",
              "1238431      0         0\n",
              "\n",
              "[1238432 rows x 2 columns]"
            ]
          },
          "metadata": {
            "tags": []
          },
          "execution_count": 114
        }
      ]
    },
    {
      "cell_type": "code",
      "metadata": {
        "id": "hO0oEbzMeyMi",
        "colab_type": "code",
        "colab": {
          "base_uri": "https://localhost:8080/",
          "height": 187
        },
        "outputId": "1487e18b-15ec-4a32-f960-c76e73610e1f"
      },
      "source": [
        "# Show the classification report of the model\n",
        "\n",
        "from sklearn.metrics import classification_report\n",
        "print(classification_report(y_test, y_pred))\n",
        "\n",
        "# The precision 1.00 shows that everything was correctly classified"
      ],
      "execution_count": 115,
      "outputs": [
        {
          "output_type": "stream",
          "text": [
            "              precision    recall  f1-score   support\n",
            "\n",
            "           0       1.00      1.00      1.00    376192\n",
            "           1       1.00      1.00      1.00    334846\n",
            "           2       1.00      1.00      1.00    527394\n",
            "\n",
            "    accuracy                           1.00   1238432\n",
            "   macro avg       1.00      1.00      1.00   1238432\n",
            "weighted avg       1.00      1.00      1.00   1238432\n",
            "\n"
          ],
          "name": "stdout"
        }
      ]
    },
    {
      "cell_type": "code",
      "metadata": {
        "id": "uns5AxpRfEs-",
        "colab_type": "code",
        "colab": {
          "base_uri": "https://localhost:8080/",
          "height": 68
        },
        "outputId": "4c6480de-368a-4c5e-ccbc-dfb2a1c4df60"
      },
      "source": [
        "# Evaluating the model\n",
        "#\n",
        "from sklearn.metrics import confusion_matrix\n",
        "confusion_matrix = confusion_matrix(y_test, y_pred)\n",
        "confusion_matrix\n",
        "\n",
        "# The results from the confusion matrix tell us that 376192, 334846 and 527394 are the number of correct predictions. \n",
        "# There are zero incorrect predictions."
      ],
      "execution_count": 116,
      "outputs": [
        {
          "output_type": "execute_result",
          "data": {
            "text/plain": [
              "array([[376192,      0,      0],\n",
              "       [     0, 334846,      0],\n",
              "       [     0,      0, 527394]])"
            ]
          },
          "metadata": {
            "tags": []
          },
          "execution_count": 116
        }
      ]
    },
    {
      "cell_type": "markdown",
      "metadata": {
        "id": "CTJPbgAv8nJV",
        "colab_type": "text"
      },
      "source": [
        "## Residual plots, assess heteroscedasticity"
      ]
    },
    {
      "cell_type": "code",
      "metadata": {
        "id": "NivvmBW18w7s",
        "colab_type": "code",
        "colab": {}
      },
      "source": [
        "X = game_clean[['home_team', 'away_team', 'home_score', 'away_score', 'tournament']].values\n",
        "y = game_clean['Status'].values\n",
        "\n",
        "X_train, X_test, y_train, y_test = train_test_split(X, y, test_size=0.2, random_state=0)\n",
        "\n",
        "LogReg = LogisticRegression()\n",
        "LogReg.fit(X_train, y_train)\n",
        "\n",
        "# This is our prediction for y based on our model\n",
        "y_predict = LogReg.predict(X_test)\n",
        "\n",
        "# We now create the residual by substracting the test value from the predicted \n",
        "# value for each row in our dataset\n",
        "\n",
        "residuals = np.subtract(y_predict, y_test)\n",
        "\n",
        "# Let's describe our residual:\n",
        "pd.DataFrame(residuals).describe()\n",
        "\n",
        "residuals.mean()"
      ],
      "execution_count": 0,
      "outputs": []
    },
    {
      "cell_type": "markdown",
      "metadata": {
        "id": "5DIieoil7vTG",
        "colab_type": "text"
      },
      "source": [
        "Conclusion\n",
        "\n",
        "Since my model was very accurate, there were no residuals gotten. Thus the residual plot was not plotted. If there were residuals, they should have been centered around 0.\n",
        "\n",
        "Homoscedasticity shows unequal scatter on residuals. In this case, there are no residuals so performing the bartlett's test is not possible.\n",
        "\n",
        "In conclusion, the model can very accurately figure out from the home team's perspective if the game is a win, loss or draw"
      ]
    },
    {
      "cell_type": "markdown",
      "metadata": {
        "id": "KJ2RLsHHdW3b",
        "colab_type": "text"
      },
      "source": [
        "# 9. Implementing the solution"
      ]
    },
    {
      "cell_type": "markdown",
      "metadata": {
        "id": "0oOot00NDUho",
        "colab_type": "text"
      },
      "source": [
        "The 3 prediction models have proved to be accurate enough (above 80%). Therefore I woud present them to the company."
      ]
    },
    {
      "cell_type": "markdown",
      "metadata": {
        "id": "DSz5K30CdbEJ",
        "colab_type": "text"
      },
      "source": [
        "# 10. Challenging the solution"
      ]
    },
    {
      "cell_type": "markdown",
      "metadata": {
        "id": "nHGqiUfYDtgH",
        "colab_type": "text"
      },
      "source": [
        "Since my models did not pass the scattered residuals test, I would maybe merge the 2 datasets differently. Maybe that will give different results when I am building the models."
      ]
    },
    {
      "cell_type": "markdown",
      "metadata": {
        "id": "qq3wqK5-df0G",
        "colab_type": "text"
      },
      "source": [
        "# 11. Follow-up questions"
      ]
    }
  ]
}